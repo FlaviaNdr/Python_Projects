{
  "cells": [
    {
      "cell_type": "markdown",
      "metadata": {
        "id": "view-in-github",
        "colab_type": "text"
      },
      "source": [
        "<a href=\"https://colab.research.google.com/github/FlaviaNdr/Python_Projects/blob/main/ArrestDataNYC2022.ipynb\" target=\"_parent\"><img src=\"https://colab.research.google.com/assets/colab-badge.svg\" alt=\"Open In Colab\"/></a>"
      ]
    },
    {
      "cell_type": "markdown",
      "metadata": {
        "id": "JTpI5-wwQMRd"
      },
      "source": [
        "# **Analysis of arrest data in NYC 2022**\n",
        "The Dataset includes all crimes reported to NYPD in the last 6 months. The dataset can be found at NYC OpenData website (https://data.cityofnewyork.us/Public-Safety/NYPD-Arrest-Data-Year-to-Date-/uip8-fykc)"
      ]
    },
    {
      "cell_type": "markdown",
      "metadata": {
        "id": "xYx6Qpe5P-qT"
      },
      "source": [
        "# 1.Import Libraries and Data"
      ]
    },
    {
      "cell_type": "code",
      "execution_count": 27,
      "metadata": {
        "id": "9axN7ykDA6Bp"
      },
      "outputs": [],
      "source": [
        "# Import Libraries\n",
        "import pandas as pd\n",
        "import numpy as np\n",
        "import matplotlib.pyplot as plt\n",
        "import seaborn as sns\n"
      ]
    },
    {
      "cell_type": "code",
      "execution_count": 28,
      "metadata": {
        "id": "VwzpbgifKZJ1"
      },
      "outputs": [],
      "source": [
        "# Import Dataset')\n",
        "df = pd.read_csv('https://raw.githubusercontent.com/FlaviaNdr/Python_Projects/main/NYPD_Arrest_Data__Year_to_Date_.csv')"
      ]
    },
    {
      "cell_type": "markdown",
      "metadata": {
        "id": "AxJlDwpjPzd2"
      },
      "source": [
        "# 2.Data exploration and cleaning"
      ]
    },
    {
      "cell_type": "markdown",
      "metadata": {
        "id": "GSCiR-WbPPaA"
      },
      "source": [
        "2.1 Checking the data"
      ]
    },
    {
      "cell_type": "code",
      "execution_count": 29,
      "metadata": {
        "colab": {
          "base_uri": "https://localhost:8080/",
          "height": 461
        },
        "id": "cF0eFEcBS_BX",
        "outputId": "09c23746-3aab-43d5-f7ac-98d6d5081644"
      },
      "outputs": [
        {
          "output_type": "execute_result",
          "data": {
            "text/plain": [
              "   ARREST_KEY ARREST_DATE  PD_CD                         PD_DESC  KY_CD  \\\n",
              "0   238552639  01/03/2022  205.0            TRESPASS 2, CRIMINAL  352.0   \n",
              "1   238682242  01/05/2022  397.0  ROBBERY,OPEN AREA UNCLASSIFIED  105.0   \n",
              "2   238723993  01/06/2022  153.0                          RAPE 3  104.0   \n",
              "3   238821533  01/08/2022    NaN                          (null)    NaN   \n",
              "4   239029586  01/12/2022    NaN                          (null)    NaN   \n",
              "\n",
              "           OFNS_DESC    LAW_CODE LAW_CAT_CD ARREST_BORO  ARREST_PRECINCT  \\\n",
              "0  CRIMINAL TRESPASS  PL 1401501          M           K               75   \n",
              "1            ROBBERY  PL 160050H          F           K               75   \n",
              "2               RAPE  PL 1302503          F           K               77   \n",
              "3             (null)  CPL5700600          9           Q              113   \n",
              "4             (null)  CPL5700600          9           Q              113   \n",
              "\n",
              "   JURISDICTION_CODE AGE_GROUP PERP_SEX       PERP_RACE  X_COORD_CD  \\\n",
              "0                  0     18-24        M           BLACK     1015028   \n",
              "1                  0     25-44        M           BLACK     1017119   \n",
              "2                  0     25-44        M           WHITE     1003509   \n",
              "3                  3     45-64        M  WHITE HISPANIC     1046367   \n",
              "4                  3     25-44        M  WHITE HISPANIC     1046367   \n",
              "\n",
              "   Y_COORD_CD   Latitude  Longitude  \\\n",
              "0      185895  40.676863 -73.889037   \n",
              "1      183909  40.671404 -73.881509   \n",
              "2      185018  40.674496 -73.930571   \n",
              "3      186986  40.679701 -73.776047   \n",
              "4      186986  40.679701 -73.776047   \n",
              "\n",
              "                     New Georeferenced Column  \n",
              "0                POINT (-73.889037 40.676863)  \n",
              "1                POINT (-73.881509 40.671404)  \n",
              "2  POINT (-73.9305713255961 40.6744956865259)  \n",
              "3            POINT (-73.77604735 40.67970059)  \n",
              "4            POINT (-73.77604735 40.67970059)  "
            ],
            "text/html": [
              "\n",
              "  <div id=\"df-3d702c00-e41a-4f0b-9231-20e9ffe0089c\">\n",
              "    <div class=\"colab-df-container\">\n",
              "      <div>\n",
              "<style scoped>\n",
              "    .dataframe tbody tr th:only-of-type {\n",
              "        vertical-align: middle;\n",
              "    }\n",
              "\n",
              "    .dataframe tbody tr th {\n",
              "        vertical-align: top;\n",
              "    }\n",
              "\n",
              "    .dataframe thead th {\n",
              "        text-align: right;\n",
              "    }\n",
              "</style>\n",
              "<table border=\"1\" class=\"dataframe\">\n",
              "  <thead>\n",
              "    <tr style=\"text-align: right;\">\n",
              "      <th></th>\n",
              "      <th>ARREST_KEY</th>\n",
              "      <th>ARREST_DATE</th>\n",
              "      <th>PD_CD</th>\n",
              "      <th>PD_DESC</th>\n",
              "      <th>KY_CD</th>\n",
              "      <th>OFNS_DESC</th>\n",
              "      <th>LAW_CODE</th>\n",
              "      <th>LAW_CAT_CD</th>\n",
              "      <th>ARREST_BORO</th>\n",
              "      <th>ARREST_PRECINCT</th>\n",
              "      <th>JURISDICTION_CODE</th>\n",
              "      <th>AGE_GROUP</th>\n",
              "      <th>PERP_SEX</th>\n",
              "      <th>PERP_RACE</th>\n",
              "      <th>X_COORD_CD</th>\n",
              "      <th>Y_COORD_CD</th>\n",
              "      <th>Latitude</th>\n",
              "      <th>Longitude</th>\n",
              "      <th>New Georeferenced Column</th>\n",
              "    </tr>\n",
              "  </thead>\n",
              "  <tbody>\n",
              "    <tr>\n",
              "      <th>0</th>\n",
              "      <td>238552639</td>\n",
              "      <td>01/03/2022</td>\n",
              "      <td>205.0</td>\n",
              "      <td>TRESPASS 2, CRIMINAL</td>\n",
              "      <td>352.0</td>\n",
              "      <td>CRIMINAL TRESPASS</td>\n",
              "      <td>PL 1401501</td>\n",
              "      <td>M</td>\n",
              "      <td>K</td>\n",
              "      <td>75</td>\n",
              "      <td>0</td>\n",
              "      <td>18-24</td>\n",
              "      <td>M</td>\n",
              "      <td>BLACK</td>\n",
              "      <td>1015028</td>\n",
              "      <td>185895</td>\n",
              "      <td>40.676863</td>\n",
              "      <td>-73.889037</td>\n",
              "      <td>POINT (-73.889037 40.676863)</td>\n",
              "    </tr>\n",
              "    <tr>\n",
              "      <th>1</th>\n",
              "      <td>238682242</td>\n",
              "      <td>01/05/2022</td>\n",
              "      <td>397.0</td>\n",
              "      <td>ROBBERY,OPEN AREA UNCLASSIFIED</td>\n",
              "      <td>105.0</td>\n",
              "      <td>ROBBERY</td>\n",
              "      <td>PL 160050H</td>\n",
              "      <td>F</td>\n",
              "      <td>K</td>\n",
              "      <td>75</td>\n",
              "      <td>0</td>\n",
              "      <td>25-44</td>\n",
              "      <td>M</td>\n",
              "      <td>BLACK</td>\n",
              "      <td>1017119</td>\n",
              "      <td>183909</td>\n",
              "      <td>40.671404</td>\n",
              "      <td>-73.881509</td>\n",
              "      <td>POINT (-73.881509 40.671404)</td>\n",
              "    </tr>\n",
              "    <tr>\n",
              "      <th>2</th>\n",
              "      <td>238723993</td>\n",
              "      <td>01/06/2022</td>\n",
              "      <td>153.0</td>\n",
              "      <td>RAPE 3</td>\n",
              "      <td>104.0</td>\n",
              "      <td>RAPE</td>\n",
              "      <td>PL 1302503</td>\n",
              "      <td>F</td>\n",
              "      <td>K</td>\n",
              "      <td>77</td>\n",
              "      <td>0</td>\n",
              "      <td>25-44</td>\n",
              "      <td>M</td>\n",
              "      <td>WHITE</td>\n",
              "      <td>1003509</td>\n",
              "      <td>185018</td>\n",
              "      <td>40.674496</td>\n",
              "      <td>-73.930571</td>\n",
              "      <td>POINT (-73.9305713255961 40.6744956865259)</td>\n",
              "    </tr>\n",
              "    <tr>\n",
              "      <th>3</th>\n",
              "      <td>238821533</td>\n",
              "      <td>01/08/2022</td>\n",
              "      <td>NaN</td>\n",
              "      <td>(null)</td>\n",
              "      <td>NaN</td>\n",
              "      <td>(null)</td>\n",
              "      <td>CPL5700600</td>\n",
              "      <td>9</td>\n",
              "      <td>Q</td>\n",
              "      <td>113</td>\n",
              "      <td>3</td>\n",
              "      <td>45-64</td>\n",
              "      <td>M</td>\n",
              "      <td>WHITE HISPANIC</td>\n",
              "      <td>1046367</td>\n",
              "      <td>186986</td>\n",
              "      <td>40.679701</td>\n",
              "      <td>-73.776047</td>\n",
              "      <td>POINT (-73.77604735 40.67970059)</td>\n",
              "    </tr>\n",
              "    <tr>\n",
              "      <th>4</th>\n",
              "      <td>239029586</td>\n",
              "      <td>01/12/2022</td>\n",
              "      <td>NaN</td>\n",
              "      <td>(null)</td>\n",
              "      <td>NaN</td>\n",
              "      <td>(null)</td>\n",
              "      <td>CPL5700600</td>\n",
              "      <td>9</td>\n",
              "      <td>Q</td>\n",
              "      <td>113</td>\n",
              "      <td>3</td>\n",
              "      <td>25-44</td>\n",
              "      <td>M</td>\n",
              "      <td>WHITE HISPANIC</td>\n",
              "      <td>1046367</td>\n",
              "      <td>186986</td>\n",
              "      <td>40.679701</td>\n",
              "      <td>-73.776047</td>\n",
              "      <td>POINT (-73.77604735 40.67970059)</td>\n",
              "    </tr>\n",
              "  </tbody>\n",
              "</table>\n",
              "</div>\n",
              "      <button class=\"colab-df-convert\" onclick=\"convertToInteractive('df-3d702c00-e41a-4f0b-9231-20e9ffe0089c')\"\n",
              "              title=\"Convert this dataframe to an interactive table.\"\n",
              "              style=\"display:none;\">\n",
              "        \n",
              "  <svg xmlns=\"http://www.w3.org/2000/svg\" height=\"24px\"viewBox=\"0 0 24 24\"\n",
              "       width=\"24px\">\n",
              "    <path d=\"M0 0h24v24H0V0z\" fill=\"none\"/>\n",
              "    <path d=\"M18.56 5.44l.94 2.06.94-2.06 2.06-.94-2.06-.94-.94-2.06-.94 2.06-2.06.94zm-11 1L8.5 8.5l.94-2.06 2.06-.94-2.06-.94L8.5 2.5l-.94 2.06-2.06.94zm10 10l.94 2.06.94-2.06 2.06-.94-2.06-.94-.94-2.06-.94 2.06-2.06.94z\"/><path d=\"M17.41 7.96l-1.37-1.37c-.4-.4-.92-.59-1.43-.59-.52 0-1.04.2-1.43.59L10.3 9.45l-7.72 7.72c-.78.78-.78 2.05 0 2.83L4 21.41c.39.39.9.59 1.41.59.51 0 1.02-.2 1.41-.59l7.78-7.78 2.81-2.81c.8-.78.8-2.07 0-2.86zM5.41 20L4 18.59l7.72-7.72 1.47 1.35L5.41 20z\"/>\n",
              "  </svg>\n",
              "      </button>\n",
              "      \n",
              "  <style>\n",
              "    .colab-df-container {\n",
              "      display:flex;\n",
              "      flex-wrap:wrap;\n",
              "      gap: 12px;\n",
              "    }\n",
              "\n",
              "    .colab-df-convert {\n",
              "      background-color: #E8F0FE;\n",
              "      border: none;\n",
              "      border-radius: 50%;\n",
              "      cursor: pointer;\n",
              "      display: none;\n",
              "      fill: #1967D2;\n",
              "      height: 32px;\n",
              "      padding: 0 0 0 0;\n",
              "      width: 32px;\n",
              "    }\n",
              "\n",
              "    .colab-df-convert:hover {\n",
              "      background-color: #E2EBFA;\n",
              "      box-shadow: 0px 1px 2px rgba(60, 64, 67, 0.3), 0px 1px 3px 1px rgba(60, 64, 67, 0.15);\n",
              "      fill: #174EA6;\n",
              "    }\n",
              "\n",
              "    [theme=dark] .colab-df-convert {\n",
              "      background-color: #3B4455;\n",
              "      fill: #D2E3FC;\n",
              "    }\n",
              "\n",
              "    [theme=dark] .colab-df-convert:hover {\n",
              "      background-color: #434B5C;\n",
              "      box-shadow: 0px 1px 3px 1px rgba(0, 0, 0, 0.15);\n",
              "      filter: drop-shadow(0px 1px 2px rgba(0, 0, 0, 0.3));\n",
              "      fill: #FFFFFF;\n",
              "    }\n",
              "  </style>\n",
              "\n",
              "      <script>\n",
              "        const buttonEl =\n",
              "          document.querySelector('#df-3d702c00-e41a-4f0b-9231-20e9ffe0089c button.colab-df-convert');\n",
              "        buttonEl.style.display =\n",
              "          google.colab.kernel.accessAllowed ? 'block' : 'none';\n",
              "\n",
              "        async function convertToInteractive(key) {\n",
              "          const element = document.querySelector('#df-3d702c00-e41a-4f0b-9231-20e9ffe0089c');\n",
              "          const dataTable =\n",
              "            await google.colab.kernel.invokeFunction('convertToInteractive',\n",
              "                                                     [key], {});\n",
              "          if (!dataTable) return;\n",
              "\n",
              "          const docLinkHtml = 'Like what you see? Visit the ' +\n",
              "            '<a target=\"_blank\" href=https://colab.research.google.com/notebooks/data_table.ipynb>data table notebook</a>'\n",
              "            + ' to learn more about interactive tables.';\n",
              "          element.innerHTML = '';\n",
              "          dataTable['output_type'] = 'display_data';\n",
              "          await google.colab.output.renderOutput(dataTable, element);\n",
              "          const docLink = document.createElement('div');\n",
              "          docLink.innerHTML = docLinkHtml;\n",
              "          element.appendChild(docLink);\n",
              "        }\n",
              "      </script>\n",
              "    </div>\n",
              "  </div>\n",
              "  "
            ]
          },
          "metadata": {},
          "execution_count": 29
        }
      ],
      "source": [
        "df.head()"
      ]
    },
    {
      "cell_type": "code",
      "execution_count": 30,
      "metadata": {
        "colab": {
          "base_uri": "https://localhost:8080/"
        },
        "id": "U6icYBHLTIuV",
        "outputId": "6d3b395d-42e4-45e7-9ed1-f99bcb68f759"
      },
      "outputs": [
        {
          "output_type": "execute_result",
          "data": {
            "text/plain": [
              "(93238, 19)"
            ]
          },
          "metadata": {},
          "execution_count": 30
        }
      ],
      "source": [
        "df.shape # check the number of columns and rows"
      ]
    },
    {
      "cell_type": "code",
      "execution_count": 31,
      "metadata": {
        "colab": {
          "base_uri": "https://localhost:8080/"
        },
        "id": "CPy2kEKOGkTH",
        "outputId": "b6c7fafb-5726-468a-a8d0-4c56858af7d5"
      },
      "outputs": [
        {
          "output_type": "execute_result",
          "data": {
            "text/plain": [
              "ARREST_KEY                    int64\n",
              "ARREST_DATE                  object\n",
              "PD_CD                       float64\n",
              "PD_DESC                      object\n",
              "KY_CD                       float64\n",
              "OFNS_DESC                    object\n",
              "LAW_CODE                     object\n",
              "LAW_CAT_CD                   object\n",
              "ARREST_BORO                  object\n",
              "ARREST_PRECINCT               int64\n",
              "JURISDICTION_CODE             int64\n",
              "AGE_GROUP                    object\n",
              "PERP_SEX                     object\n",
              "PERP_RACE                    object\n",
              "X_COORD_CD                    int64\n",
              "Y_COORD_CD                    int64\n",
              "Latitude                    float64\n",
              "Longitude                   float64\n",
              "New Georeferenced Column     object\n",
              "dtype: object"
            ]
          },
          "metadata": {},
          "execution_count": 31
        }
      ],
      "source": [
        "df.dtypes"
      ]
    },
    {
      "cell_type": "code",
      "execution_count": 32,
      "metadata": {
        "colab": {
          "base_uri": "https://localhost:8080/"
        },
        "id": "6LG-MZJhTVAf",
        "outputId": "8a122eed-f7da-4872-cdf4-e596f43431d8"
      },
      "outputs": [
        {
          "output_type": "execute_result",
          "data": {
            "text/plain": [
              "(93238, 19)"
            ]
          },
          "metadata": {},
          "execution_count": 32
        }
      ],
      "source": [
        "# check and drop duplicate data \n",
        "df = df.drop_duplicates()\n",
        "df.shape    # no duplicates found"
      ]
    },
    {
      "cell_type": "code",
      "execution_count": 33,
      "metadata": {
        "colab": {
          "base_uri": "https://localhost:8080/"
        },
        "id": "f5VP7e1VWulj",
        "outputId": "b4746c74-e34a-42d2-93b5-7f7214ca24b1"
      },
      "outputs": [
        {
          "output_type": "execute_result",
          "data": {
            "text/plain": [
              "True"
            ]
          },
          "metadata": {},
          "execution_count": 33
        }
      ],
      "source": [
        "# check missing values\n",
        "df.isnull().values.any()"
      ]
    },
    {
      "cell_type": "code",
      "execution_count": 34,
      "metadata": {
        "colab": {
          "base_uri": "https://localhost:8080/"
        },
        "id": "uapYFblywJ5i",
        "outputId": "cd023005-25c5-47ea-92a7-ee2ae2e58806"
      },
      "outputs": [
        {
          "output_type": "execute_result",
          "data": {
            "text/plain": [
              "ARREST_KEY                    0\n",
              "ARREST_DATE                   0\n",
              "PD_CD                       233\n",
              "PD_DESC                       0\n",
              "KY_CD                       304\n",
              "OFNS_DESC                     0\n",
              "LAW_CODE                      0\n",
              "LAW_CAT_CD                  911\n",
              "ARREST_BORO                   0\n",
              "ARREST_PRECINCT               0\n",
              "JURISDICTION_CODE             0\n",
              "AGE_GROUP                     0\n",
              "PERP_SEX                      0\n",
              "PERP_RACE                     0\n",
              "X_COORD_CD                    0\n",
              "Y_COORD_CD                    0\n",
              "Latitude                      0\n",
              "Longitude                     0\n",
              "New Georeferenced Column      0\n",
              "dtype: int64"
            ]
          },
          "metadata": {},
          "execution_count": 34
        }
      ],
      "source": [
        "df.isna().sum()"
      ]
    },
    {
      "cell_type": "markdown",
      "metadata": {
        "id": "k-qrdNhWp96B"
      },
      "source": [
        "2.2 Dealing with missing data"
      ]
    },
    {
      "cell_type": "markdown",
      "metadata": {
        "id": "Ltrw4CWx2Drs"
      },
      "source": [
        "In additon to NaN values there are also (null) values. I`m replacing them with NaN. I will drop missing values for columns that are not important, and for the others i will fill them with \"UNKNOWN\". There is some numeric data ('9') on LAW_CAT_CD, will replace them with \"UNKNOWN\". Drop non important columns and rename Boroughs"
      ]
    },
    {
      "cell_type": "code",
      "execution_count": 35,
      "metadata": {
        "colab": {
          "base_uri": "https://localhost:8080/",
          "height": 852
        },
        "id": "OnwTFYDFwE6d",
        "outputId": "2de3c6b3-7646-41a8-8787-4cd15c16dc81"
      },
      "outputs": [
        {
          "output_type": "execute_result",
          "data": {
            "text/plain": [
              "       ARREST_KEY ARREST_DATE  PD_CD                         PD_DESC  KY_CD  \\\n",
              "0       238552639  01/03/2022  205.0            TRESPASS 2, CRIMINAL  352.0   \n",
              "1       238682242  01/05/2022  397.0  ROBBERY,OPEN AREA UNCLASSIFIED  105.0   \n",
              "2       238723993  01/06/2022  153.0                          RAPE 3  104.0   \n",
              "3       238821533  01/08/2022    NaN                             NaN    NaN   \n",
              "4       239029586  01/12/2022    NaN                             NaN    NaN   \n",
              "...           ...         ...    ...                             ...    ...   \n",
              "93233   245643921  05/25/2022  339.0  LARCENY,PETIT FROM OPEN AREAS,  341.0   \n",
              "93234   244421351  05/01/2022  817.0   TORTURE/INJURE ANIMAL CRUELTY  364.0   \n",
              "93235   245240736  05/18/2022  397.0  ROBBERY,OPEN AREA UNCLASSIFIED  105.0   \n",
              "93236   246474038  06/11/2022  792.0        WEAPONS POSSESSION 1 & 2  118.0   \n",
              "93237   245621424  05/25/2022  101.0                       ASSAULT 3  344.0   \n",
              "\n",
              "                                  OFNS_DESC    LAW_CODE LAW_CAT_CD  \\\n",
              "0                         CRIMINAL TRESPASS  PL 1401501          M   \n",
              "1                                   ROBBERY  PL 160050H          F   \n",
              "2                                      RAPE  PL 1302503          F   \n",
              "3                                       NaN  CPL5700600          9   \n",
              "4                                       NaN  CPL5700600          9   \n",
              "...                                     ...         ...        ...   \n",
              "93233                         PETIT LARCENY  PL 1552500          M   \n",
              "93234  AGRICULTURE & MRKTS LAW-UNCLASSIFIED  AM 0353000          M   \n",
              "93235                               ROBBERY  PL 160102A          F   \n",
              "93236                     DANGEROUS WEAPONS  PL 265031B          F   \n",
              "93237          ASSAULT 3 & RELATED OFFENSES  PL 1200001          M   \n",
              "\n",
              "      ARREST_BORO  ARREST_PRECINCT  JURISDICTION_CODE AGE_GROUP PERP_SEX  \\\n",
              "0               K               75                  0     18-24        M   \n",
              "1               K               75                  0     25-44        M   \n",
              "2               K               77                  0     25-44        M   \n",
              "3               Q              113                  3     45-64        M   \n",
              "4               Q              113                  3     25-44        M   \n",
              "...           ...              ...                ...       ...      ...   \n",
              "93233           B               40                  0     25-44        M   \n",
              "93234           B               40                  2     25-44        M   \n",
              "93235           M               25                  0     45-64        F   \n",
              "93236           B               40                  0     25-44        F   \n",
              "93237           M               33                  0     45-64        M   \n",
              "\n",
              "            PERP_RACE  X_COORD_CD  Y_COORD_CD   Latitude  Longitude  \\\n",
              "0               BLACK     1015028      185895  40.676863 -73.889037   \n",
              "1               BLACK     1017119      183909  40.671404 -73.881509   \n",
              "2               WHITE     1003509      185018  40.674496 -73.930571   \n",
              "3      WHITE HISPANIC     1046367      186986  40.679701 -73.776047   \n",
              "4      WHITE HISPANIC     1046367      186986  40.679701 -73.776047   \n",
              "...               ...         ...         ...        ...        ...   \n",
              "93233  BLACK HISPANIC     1006851      233366  40.807184 -73.918356   \n",
              "93234           BLACK     1007208      234859  40.811280 -73.917061   \n",
              "93235  WHITE HISPANIC     1000581      231070  40.800896 -73.941011   \n",
              "93236  BLACK HISPANIC     1005835      234850  40.811260 -73.922021   \n",
              "93237  WHITE HISPANIC     1001360      246031  40.841960 -73.938158   \n",
              "\n",
              "                         New Georeferenced Column  \n",
              "0                    POINT (-73.889037 40.676863)  \n",
              "1                    POINT (-73.881509 40.671404)  \n",
              "2      POINT (-73.9305713255961 40.6744956865259)  \n",
              "3                POINT (-73.77604735 40.67970059)  \n",
              "4                POINT (-73.77604735 40.67970059)  \n",
              "...                                           ...  \n",
              "93233                POINT (-73.918356 40.807184)  \n",
              "93234                 POINT (-73.917061 40.81128)  \n",
              "93235                POINT (-73.941011 40.800896)  \n",
              "93236                 POINT (-73.922021 40.81126)  \n",
              "93237                 POINT (-73.938158 40.84196)  \n",
              "\n",
              "[93238 rows x 19 columns]"
            ],
            "text/html": [
              "\n",
              "  <div id=\"df-80bfe5e2-0c03-4717-a23f-f3bb1e2a1942\">\n",
              "    <div class=\"colab-df-container\">\n",
              "      <div>\n",
              "<style scoped>\n",
              "    .dataframe tbody tr th:only-of-type {\n",
              "        vertical-align: middle;\n",
              "    }\n",
              "\n",
              "    .dataframe tbody tr th {\n",
              "        vertical-align: top;\n",
              "    }\n",
              "\n",
              "    .dataframe thead th {\n",
              "        text-align: right;\n",
              "    }\n",
              "</style>\n",
              "<table border=\"1\" class=\"dataframe\">\n",
              "  <thead>\n",
              "    <tr style=\"text-align: right;\">\n",
              "      <th></th>\n",
              "      <th>ARREST_KEY</th>\n",
              "      <th>ARREST_DATE</th>\n",
              "      <th>PD_CD</th>\n",
              "      <th>PD_DESC</th>\n",
              "      <th>KY_CD</th>\n",
              "      <th>OFNS_DESC</th>\n",
              "      <th>LAW_CODE</th>\n",
              "      <th>LAW_CAT_CD</th>\n",
              "      <th>ARREST_BORO</th>\n",
              "      <th>ARREST_PRECINCT</th>\n",
              "      <th>JURISDICTION_CODE</th>\n",
              "      <th>AGE_GROUP</th>\n",
              "      <th>PERP_SEX</th>\n",
              "      <th>PERP_RACE</th>\n",
              "      <th>X_COORD_CD</th>\n",
              "      <th>Y_COORD_CD</th>\n",
              "      <th>Latitude</th>\n",
              "      <th>Longitude</th>\n",
              "      <th>New Georeferenced Column</th>\n",
              "    </tr>\n",
              "  </thead>\n",
              "  <tbody>\n",
              "    <tr>\n",
              "      <th>0</th>\n",
              "      <td>238552639</td>\n",
              "      <td>01/03/2022</td>\n",
              "      <td>205.0</td>\n",
              "      <td>TRESPASS 2, CRIMINAL</td>\n",
              "      <td>352.0</td>\n",
              "      <td>CRIMINAL TRESPASS</td>\n",
              "      <td>PL 1401501</td>\n",
              "      <td>M</td>\n",
              "      <td>K</td>\n",
              "      <td>75</td>\n",
              "      <td>0</td>\n",
              "      <td>18-24</td>\n",
              "      <td>M</td>\n",
              "      <td>BLACK</td>\n",
              "      <td>1015028</td>\n",
              "      <td>185895</td>\n",
              "      <td>40.676863</td>\n",
              "      <td>-73.889037</td>\n",
              "      <td>POINT (-73.889037 40.676863)</td>\n",
              "    </tr>\n",
              "    <tr>\n",
              "      <th>1</th>\n",
              "      <td>238682242</td>\n",
              "      <td>01/05/2022</td>\n",
              "      <td>397.0</td>\n",
              "      <td>ROBBERY,OPEN AREA UNCLASSIFIED</td>\n",
              "      <td>105.0</td>\n",
              "      <td>ROBBERY</td>\n",
              "      <td>PL 160050H</td>\n",
              "      <td>F</td>\n",
              "      <td>K</td>\n",
              "      <td>75</td>\n",
              "      <td>0</td>\n",
              "      <td>25-44</td>\n",
              "      <td>M</td>\n",
              "      <td>BLACK</td>\n",
              "      <td>1017119</td>\n",
              "      <td>183909</td>\n",
              "      <td>40.671404</td>\n",
              "      <td>-73.881509</td>\n",
              "      <td>POINT (-73.881509 40.671404)</td>\n",
              "    </tr>\n",
              "    <tr>\n",
              "      <th>2</th>\n",
              "      <td>238723993</td>\n",
              "      <td>01/06/2022</td>\n",
              "      <td>153.0</td>\n",
              "      <td>RAPE 3</td>\n",
              "      <td>104.0</td>\n",
              "      <td>RAPE</td>\n",
              "      <td>PL 1302503</td>\n",
              "      <td>F</td>\n",
              "      <td>K</td>\n",
              "      <td>77</td>\n",
              "      <td>0</td>\n",
              "      <td>25-44</td>\n",
              "      <td>M</td>\n",
              "      <td>WHITE</td>\n",
              "      <td>1003509</td>\n",
              "      <td>185018</td>\n",
              "      <td>40.674496</td>\n",
              "      <td>-73.930571</td>\n",
              "      <td>POINT (-73.9305713255961 40.6744956865259)</td>\n",
              "    </tr>\n",
              "    <tr>\n",
              "      <th>3</th>\n",
              "      <td>238821533</td>\n",
              "      <td>01/08/2022</td>\n",
              "      <td>NaN</td>\n",
              "      <td>NaN</td>\n",
              "      <td>NaN</td>\n",
              "      <td>NaN</td>\n",
              "      <td>CPL5700600</td>\n",
              "      <td>9</td>\n",
              "      <td>Q</td>\n",
              "      <td>113</td>\n",
              "      <td>3</td>\n",
              "      <td>45-64</td>\n",
              "      <td>M</td>\n",
              "      <td>WHITE HISPANIC</td>\n",
              "      <td>1046367</td>\n",
              "      <td>186986</td>\n",
              "      <td>40.679701</td>\n",
              "      <td>-73.776047</td>\n",
              "      <td>POINT (-73.77604735 40.67970059)</td>\n",
              "    </tr>\n",
              "    <tr>\n",
              "      <th>4</th>\n",
              "      <td>239029586</td>\n",
              "      <td>01/12/2022</td>\n",
              "      <td>NaN</td>\n",
              "      <td>NaN</td>\n",
              "      <td>NaN</td>\n",
              "      <td>NaN</td>\n",
              "      <td>CPL5700600</td>\n",
              "      <td>9</td>\n",
              "      <td>Q</td>\n",
              "      <td>113</td>\n",
              "      <td>3</td>\n",
              "      <td>25-44</td>\n",
              "      <td>M</td>\n",
              "      <td>WHITE HISPANIC</td>\n",
              "      <td>1046367</td>\n",
              "      <td>186986</td>\n",
              "      <td>40.679701</td>\n",
              "      <td>-73.776047</td>\n",
              "      <td>POINT (-73.77604735 40.67970059)</td>\n",
              "    </tr>\n",
              "    <tr>\n",
              "      <th>...</th>\n",
              "      <td>...</td>\n",
              "      <td>...</td>\n",
              "      <td>...</td>\n",
              "      <td>...</td>\n",
              "      <td>...</td>\n",
              "      <td>...</td>\n",
              "      <td>...</td>\n",
              "      <td>...</td>\n",
              "      <td>...</td>\n",
              "      <td>...</td>\n",
              "      <td>...</td>\n",
              "      <td>...</td>\n",
              "      <td>...</td>\n",
              "      <td>...</td>\n",
              "      <td>...</td>\n",
              "      <td>...</td>\n",
              "      <td>...</td>\n",
              "      <td>...</td>\n",
              "      <td>...</td>\n",
              "    </tr>\n",
              "    <tr>\n",
              "      <th>93233</th>\n",
              "      <td>245643921</td>\n",
              "      <td>05/25/2022</td>\n",
              "      <td>339.0</td>\n",
              "      <td>LARCENY,PETIT FROM OPEN AREAS,</td>\n",
              "      <td>341.0</td>\n",
              "      <td>PETIT LARCENY</td>\n",
              "      <td>PL 1552500</td>\n",
              "      <td>M</td>\n",
              "      <td>B</td>\n",
              "      <td>40</td>\n",
              "      <td>0</td>\n",
              "      <td>25-44</td>\n",
              "      <td>M</td>\n",
              "      <td>BLACK HISPANIC</td>\n",
              "      <td>1006851</td>\n",
              "      <td>233366</td>\n",
              "      <td>40.807184</td>\n",
              "      <td>-73.918356</td>\n",
              "      <td>POINT (-73.918356 40.807184)</td>\n",
              "    </tr>\n",
              "    <tr>\n",
              "      <th>93234</th>\n",
              "      <td>244421351</td>\n",
              "      <td>05/01/2022</td>\n",
              "      <td>817.0</td>\n",
              "      <td>TORTURE/INJURE ANIMAL CRUELTY</td>\n",
              "      <td>364.0</td>\n",
              "      <td>AGRICULTURE &amp; MRKTS LAW-UNCLASSIFIED</td>\n",
              "      <td>AM 0353000</td>\n",
              "      <td>M</td>\n",
              "      <td>B</td>\n",
              "      <td>40</td>\n",
              "      <td>2</td>\n",
              "      <td>25-44</td>\n",
              "      <td>M</td>\n",
              "      <td>BLACK</td>\n",
              "      <td>1007208</td>\n",
              "      <td>234859</td>\n",
              "      <td>40.811280</td>\n",
              "      <td>-73.917061</td>\n",
              "      <td>POINT (-73.917061 40.81128)</td>\n",
              "    </tr>\n",
              "    <tr>\n",
              "      <th>93235</th>\n",
              "      <td>245240736</td>\n",
              "      <td>05/18/2022</td>\n",
              "      <td>397.0</td>\n",
              "      <td>ROBBERY,OPEN AREA UNCLASSIFIED</td>\n",
              "      <td>105.0</td>\n",
              "      <td>ROBBERY</td>\n",
              "      <td>PL 160102A</td>\n",
              "      <td>F</td>\n",
              "      <td>M</td>\n",
              "      <td>25</td>\n",
              "      <td>0</td>\n",
              "      <td>45-64</td>\n",
              "      <td>F</td>\n",
              "      <td>WHITE HISPANIC</td>\n",
              "      <td>1000581</td>\n",
              "      <td>231070</td>\n",
              "      <td>40.800896</td>\n",
              "      <td>-73.941011</td>\n",
              "      <td>POINT (-73.941011 40.800896)</td>\n",
              "    </tr>\n",
              "    <tr>\n",
              "      <th>93236</th>\n",
              "      <td>246474038</td>\n",
              "      <td>06/11/2022</td>\n",
              "      <td>792.0</td>\n",
              "      <td>WEAPONS POSSESSION 1 &amp; 2</td>\n",
              "      <td>118.0</td>\n",
              "      <td>DANGEROUS WEAPONS</td>\n",
              "      <td>PL 265031B</td>\n",
              "      <td>F</td>\n",
              "      <td>B</td>\n",
              "      <td>40</td>\n",
              "      <td>0</td>\n",
              "      <td>25-44</td>\n",
              "      <td>F</td>\n",
              "      <td>BLACK HISPANIC</td>\n",
              "      <td>1005835</td>\n",
              "      <td>234850</td>\n",
              "      <td>40.811260</td>\n",
              "      <td>-73.922021</td>\n",
              "      <td>POINT (-73.922021 40.81126)</td>\n",
              "    </tr>\n",
              "    <tr>\n",
              "      <th>93237</th>\n",
              "      <td>245621424</td>\n",
              "      <td>05/25/2022</td>\n",
              "      <td>101.0</td>\n",
              "      <td>ASSAULT 3</td>\n",
              "      <td>344.0</td>\n",
              "      <td>ASSAULT 3 &amp; RELATED OFFENSES</td>\n",
              "      <td>PL 1200001</td>\n",
              "      <td>M</td>\n",
              "      <td>M</td>\n",
              "      <td>33</td>\n",
              "      <td>0</td>\n",
              "      <td>45-64</td>\n",
              "      <td>M</td>\n",
              "      <td>WHITE HISPANIC</td>\n",
              "      <td>1001360</td>\n",
              "      <td>246031</td>\n",
              "      <td>40.841960</td>\n",
              "      <td>-73.938158</td>\n",
              "      <td>POINT (-73.938158 40.84196)</td>\n",
              "    </tr>\n",
              "  </tbody>\n",
              "</table>\n",
              "<p>93238 rows × 19 columns</p>\n",
              "</div>\n",
              "      <button class=\"colab-df-convert\" onclick=\"convertToInteractive('df-80bfe5e2-0c03-4717-a23f-f3bb1e2a1942')\"\n",
              "              title=\"Convert this dataframe to an interactive table.\"\n",
              "              style=\"display:none;\">\n",
              "        \n",
              "  <svg xmlns=\"http://www.w3.org/2000/svg\" height=\"24px\"viewBox=\"0 0 24 24\"\n",
              "       width=\"24px\">\n",
              "    <path d=\"M0 0h24v24H0V0z\" fill=\"none\"/>\n",
              "    <path d=\"M18.56 5.44l.94 2.06.94-2.06 2.06-.94-2.06-.94-.94-2.06-.94 2.06-2.06.94zm-11 1L8.5 8.5l.94-2.06 2.06-.94-2.06-.94L8.5 2.5l-.94 2.06-2.06.94zm10 10l.94 2.06.94-2.06 2.06-.94-2.06-.94-.94-2.06-.94 2.06-2.06.94z\"/><path d=\"M17.41 7.96l-1.37-1.37c-.4-.4-.92-.59-1.43-.59-.52 0-1.04.2-1.43.59L10.3 9.45l-7.72 7.72c-.78.78-.78 2.05 0 2.83L4 21.41c.39.39.9.59 1.41.59.51 0 1.02-.2 1.41-.59l7.78-7.78 2.81-2.81c.8-.78.8-2.07 0-2.86zM5.41 20L4 18.59l7.72-7.72 1.47 1.35L5.41 20z\"/>\n",
              "  </svg>\n",
              "      </button>\n",
              "      \n",
              "  <style>\n",
              "    .colab-df-container {\n",
              "      display:flex;\n",
              "      flex-wrap:wrap;\n",
              "      gap: 12px;\n",
              "    }\n",
              "\n",
              "    .colab-df-convert {\n",
              "      background-color: #E8F0FE;\n",
              "      border: none;\n",
              "      border-radius: 50%;\n",
              "      cursor: pointer;\n",
              "      display: none;\n",
              "      fill: #1967D2;\n",
              "      height: 32px;\n",
              "      padding: 0 0 0 0;\n",
              "      width: 32px;\n",
              "    }\n",
              "\n",
              "    .colab-df-convert:hover {\n",
              "      background-color: #E2EBFA;\n",
              "      box-shadow: 0px 1px 2px rgba(60, 64, 67, 0.3), 0px 1px 3px 1px rgba(60, 64, 67, 0.15);\n",
              "      fill: #174EA6;\n",
              "    }\n",
              "\n",
              "    [theme=dark] .colab-df-convert {\n",
              "      background-color: #3B4455;\n",
              "      fill: #D2E3FC;\n",
              "    }\n",
              "\n",
              "    [theme=dark] .colab-df-convert:hover {\n",
              "      background-color: #434B5C;\n",
              "      box-shadow: 0px 1px 3px 1px rgba(0, 0, 0, 0.15);\n",
              "      filter: drop-shadow(0px 1px 2px rgba(0, 0, 0, 0.3));\n",
              "      fill: #FFFFFF;\n",
              "    }\n",
              "  </style>\n",
              "\n",
              "      <script>\n",
              "        const buttonEl =\n",
              "          document.querySelector('#df-80bfe5e2-0c03-4717-a23f-f3bb1e2a1942 button.colab-df-convert');\n",
              "        buttonEl.style.display =\n",
              "          google.colab.kernel.accessAllowed ? 'block' : 'none';\n",
              "\n",
              "        async function convertToInteractive(key) {\n",
              "          const element = document.querySelector('#df-80bfe5e2-0c03-4717-a23f-f3bb1e2a1942');\n",
              "          const dataTable =\n",
              "            await google.colab.kernel.invokeFunction('convertToInteractive',\n",
              "                                                     [key], {});\n",
              "          if (!dataTable) return;\n",
              "\n",
              "          const docLinkHtml = 'Like what you see? Visit the ' +\n",
              "            '<a target=\"_blank\" href=https://colab.research.google.com/notebooks/data_table.ipynb>data table notebook</a>'\n",
              "            + ' to learn more about interactive tables.';\n",
              "          element.innerHTML = '';\n",
              "          dataTable['output_type'] = 'display_data';\n",
              "          await google.colab.output.renderOutput(dataTable, element);\n",
              "          const docLink = document.createElement('div');\n",
              "          docLink.innerHTML = docLinkHtml;\n",
              "          element.appendChild(docLink);\n",
              "        }\n",
              "      </script>\n",
              "    </div>\n",
              "  </div>\n",
              "  "
            ]
          },
          "metadata": {},
          "execution_count": 35
        }
      ],
      "source": [
        "df.replace('(null)', np.NaN, inplace=True)\n",
        "df"
      ]
    },
    {
      "cell_type": "code",
      "execution_count": 36,
      "metadata": {
        "colab": {
          "base_uri": "https://localhost:8080/"
        },
        "id": "uQbj-kOvw_cG",
        "outputId": "b3058824-e757-42d0-dea3-c294283d2943"
      },
      "outputs": [
        {
          "output_type": "execute_result",
          "data": {
            "text/plain": [
              "ARREST_KEY                    0\n",
              "ARREST_DATE                   0\n",
              "PD_CD                       233\n",
              "PD_DESC                     304\n",
              "KY_CD                       304\n",
              "OFNS_DESC                   304\n",
              "LAW_CODE                      0\n",
              "LAW_CAT_CD                  911\n",
              "ARREST_BORO                   0\n",
              "ARREST_PRECINCT               0\n",
              "JURISDICTION_CODE             0\n",
              "AGE_GROUP                     0\n",
              "PERP_SEX                      0\n",
              "PERP_RACE                     0\n",
              "X_COORD_CD                    0\n",
              "Y_COORD_CD                    0\n",
              "Latitude                      0\n",
              "Longitude                     0\n",
              "New Georeferenced Column      0\n",
              "dtype: int64"
            ]
          },
          "metadata": {},
          "execution_count": 36
        }
      ],
      "source": [
        "df.isna().sum() # code worked"
      ]
    },
    {
      "cell_type": "code",
      "execution_count": 37,
      "metadata": {
        "id": "8YDYuSCJ3MUB"
      },
      "outputs": [],
      "source": [
        "# dropping rows with NaN values\n",
        "df.dropna(subset=['PD_CD','KY_CD'],inplace=True)\n"
      ]
    },
    {
      "cell_type": "code",
      "execution_count": 38,
      "metadata": {
        "id": "f2N5F1Vq4b2o"
      },
      "outputs": [],
      "source": [
        "# dropping not important colums\n",
        "df.drop(['PD_CD','KY_CD','JURISDICTION_CODE','PD_DESC','X_COORD_CD','Y_COORD_CD','Latitude','Longitude','New Georeferenced Column'], axis=1,inplace=True)"
      ]
    },
    {
      "cell_type": "code",
      "execution_count": 39,
      "metadata": {
        "id": "Zq_rvylH8RFD"
      },
      "outputs": [],
      "source": [
        "# replace NaN values in 'LAW_CAT_CD' with 'UNKNOWN'\n",
        "df.fillna({'LAW_CAT_CD':'UNKNOWN'},inplace=True)"
      ]
    },
    {
      "cell_type": "code",
      "execution_count": 40,
      "metadata": {
        "id": "qSW7gZkl9R3f"
      },
      "outputs": [],
      "source": [
        "# replace numeric value '9' in LAW_CAT_CD' with 'UNKNOWN'\n",
        "df['LAW_CAT_CD'].replace(['9'],'UNKNOWN', inplace=True)"
      ]
    },
    {
      "cell_type": "code",
      "execution_count": 41,
      "metadata": {
        "id": "QAVhWjsfbGmI"
      },
      "outputs": [],
      "source": [
        "# renaiming Boroughs\n",
        "df['ARREST_BORO'].replace(['K', 'B', 'M', 'Q', 'S'],['Brooklyn','Bronx','Manhatan','Queens','Staten Island'],inplace=True)"
      ]
    },
    {
      "cell_type": "code",
      "execution_count": 42,
      "metadata": {
        "colab": {
          "base_uri": "https://localhost:8080/",
          "height": 206
        },
        "id": "O8A1YCFr9Hkw",
        "outputId": "785812ad-36e4-420e-ea0d-7e5ba1063fe6"
      },
      "outputs": [
        {
          "output_type": "execute_result",
          "data": {
            "text/plain": [
              "   ARREST_KEY ARREST_DATE                     OFNS_DESC    LAW_CODE  \\\n",
              "0   238552639  01/03/2022             CRIMINAL TRESPASS  PL 1401501   \n",
              "1   238682242  01/05/2022                       ROBBERY  PL 160050H   \n",
              "2   238723993  01/06/2022                          RAPE  PL 1302503   \n",
              "5   239104920  01/13/2022  ASSAULT 3 & RELATED OFFENSES  PL 1200001   \n",
              "7   239623520  01/24/2022  ASSAULT 3 & RELATED OFFENSES  PL 1200001   \n",
              "\n",
              "  LAW_CAT_CD ARREST_BORO  ARREST_PRECINCT AGE_GROUP PERP_SEX PERP_RACE  \n",
              "0          M    Brooklyn               75     18-24        M     BLACK  \n",
              "1          F    Brooklyn               75     25-44        M     BLACK  \n",
              "2          F    Brooklyn               77     25-44        M     WHITE  \n",
              "5          M    Brooklyn               77     45-64        M     BLACK  \n",
              "7          M    Brooklyn               60     45-64        M     WHITE  "
            ],
            "text/html": [
              "\n",
              "  <div id=\"df-a7dd30a4-d3d8-46a2-80e3-3ee92d3e77e8\">\n",
              "    <div class=\"colab-df-container\">\n",
              "      <div>\n",
              "<style scoped>\n",
              "    .dataframe tbody tr th:only-of-type {\n",
              "        vertical-align: middle;\n",
              "    }\n",
              "\n",
              "    .dataframe tbody tr th {\n",
              "        vertical-align: top;\n",
              "    }\n",
              "\n",
              "    .dataframe thead th {\n",
              "        text-align: right;\n",
              "    }\n",
              "</style>\n",
              "<table border=\"1\" class=\"dataframe\">\n",
              "  <thead>\n",
              "    <tr style=\"text-align: right;\">\n",
              "      <th></th>\n",
              "      <th>ARREST_KEY</th>\n",
              "      <th>ARREST_DATE</th>\n",
              "      <th>OFNS_DESC</th>\n",
              "      <th>LAW_CODE</th>\n",
              "      <th>LAW_CAT_CD</th>\n",
              "      <th>ARREST_BORO</th>\n",
              "      <th>ARREST_PRECINCT</th>\n",
              "      <th>AGE_GROUP</th>\n",
              "      <th>PERP_SEX</th>\n",
              "      <th>PERP_RACE</th>\n",
              "    </tr>\n",
              "  </thead>\n",
              "  <tbody>\n",
              "    <tr>\n",
              "      <th>0</th>\n",
              "      <td>238552639</td>\n",
              "      <td>01/03/2022</td>\n",
              "      <td>CRIMINAL TRESPASS</td>\n",
              "      <td>PL 1401501</td>\n",
              "      <td>M</td>\n",
              "      <td>Brooklyn</td>\n",
              "      <td>75</td>\n",
              "      <td>18-24</td>\n",
              "      <td>M</td>\n",
              "      <td>BLACK</td>\n",
              "    </tr>\n",
              "    <tr>\n",
              "      <th>1</th>\n",
              "      <td>238682242</td>\n",
              "      <td>01/05/2022</td>\n",
              "      <td>ROBBERY</td>\n",
              "      <td>PL 160050H</td>\n",
              "      <td>F</td>\n",
              "      <td>Brooklyn</td>\n",
              "      <td>75</td>\n",
              "      <td>25-44</td>\n",
              "      <td>M</td>\n",
              "      <td>BLACK</td>\n",
              "    </tr>\n",
              "    <tr>\n",
              "      <th>2</th>\n",
              "      <td>238723993</td>\n",
              "      <td>01/06/2022</td>\n",
              "      <td>RAPE</td>\n",
              "      <td>PL 1302503</td>\n",
              "      <td>F</td>\n",
              "      <td>Brooklyn</td>\n",
              "      <td>77</td>\n",
              "      <td>25-44</td>\n",
              "      <td>M</td>\n",
              "      <td>WHITE</td>\n",
              "    </tr>\n",
              "    <tr>\n",
              "      <th>5</th>\n",
              "      <td>239104920</td>\n",
              "      <td>01/13/2022</td>\n",
              "      <td>ASSAULT 3 &amp; RELATED OFFENSES</td>\n",
              "      <td>PL 1200001</td>\n",
              "      <td>M</td>\n",
              "      <td>Brooklyn</td>\n",
              "      <td>77</td>\n",
              "      <td>45-64</td>\n",
              "      <td>M</td>\n",
              "      <td>BLACK</td>\n",
              "    </tr>\n",
              "    <tr>\n",
              "      <th>7</th>\n",
              "      <td>239623520</td>\n",
              "      <td>01/24/2022</td>\n",
              "      <td>ASSAULT 3 &amp; RELATED OFFENSES</td>\n",
              "      <td>PL 1200001</td>\n",
              "      <td>M</td>\n",
              "      <td>Brooklyn</td>\n",
              "      <td>60</td>\n",
              "      <td>45-64</td>\n",
              "      <td>M</td>\n",
              "      <td>WHITE</td>\n",
              "    </tr>\n",
              "  </tbody>\n",
              "</table>\n",
              "</div>\n",
              "      <button class=\"colab-df-convert\" onclick=\"convertToInteractive('df-a7dd30a4-d3d8-46a2-80e3-3ee92d3e77e8')\"\n",
              "              title=\"Convert this dataframe to an interactive table.\"\n",
              "              style=\"display:none;\">\n",
              "        \n",
              "  <svg xmlns=\"http://www.w3.org/2000/svg\" height=\"24px\"viewBox=\"0 0 24 24\"\n",
              "       width=\"24px\">\n",
              "    <path d=\"M0 0h24v24H0V0z\" fill=\"none\"/>\n",
              "    <path d=\"M18.56 5.44l.94 2.06.94-2.06 2.06-.94-2.06-.94-.94-2.06-.94 2.06-2.06.94zm-11 1L8.5 8.5l.94-2.06 2.06-.94-2.06-.94L8.5 2.5l-.94 2.06-2.06.94zm10 10l.94 2.06.94-2.06 2.06-.94-2.06-.94-.94-2.06-.94 2.06-2.06.94z\"/><path d=\"M17.41 7.96l-1.37-1.37c-.4-.4-.92-.59-1.43-.59-.52 0-1.04.2-1.43.59L10.3 9.45l-7.72 7.72c-.78.78-.78 2.05 0 2.83L4 21.41c.39.39.9.59 1.41.59.51 0 1.02-.2 1.41-.59l7.78-7.78 2.81-2.81c.8-.78.8-2.07 0-2.86zM5.41 20L4 18.59l7.72-7.72 1.47 1.35L5.41 20z\"/>\n",
              "  </svg>\n",
              "      </button>\n",
              "      \n",
              "  <style>\n",
              "    .colab-df-container {\n",
              "      display:flex;\n",
              "      flex-wrap:wrap;\n",
              "      gap: 12px;\n",
              "    }\n",
              "\n",
              "    .colab-df-convert {\n",
              "      background-color: #E8F0FE;\n",
              "      border: none;\n",
              "      border-radius: 50%;\n",
              "      cursor: pointer;\n",
              "      display: none;\n",
              "      fill: #1967D2;\n",
              "      height: 32px;\n",
              "      padding: 0 0 0 0;\n",
              "      width: 32px;\n",
              "    }\n",
              "\n",
              "    .colab-df-convert:hover {\n",
              "      background-color: #E2EBFA;\n",
              "      box-shadow: 0px 1px 2px rgba(60, 64, 67, 0.3), 0px 1px 3px 1px rgba(60, 64, 67, 0.15);\n",
              "      fill: #174EA6;\n",
              "    }\n",
              "\n",
              "    [theme=dark] .colab-df-convert {\n",
              "      background-color: #3B4455;\n",
              "      fill: #D2E3FC;\n",
              "    }\n",
              "\n",
              "    [theme=dark] .colab-df-convert:hover {\n",
              "      background-color: #434B5C;\n",
              "      box-shadow: 0px 1px 3px 1px rgba(0, 0, 0, 0.15);\n",
              "      filter: drop-shadow(0px 1px 2px rgba(0, 0, 0, 0.3));\n",
              "      fill: #FFFFFF;\n",
              "    }\n",
              "  </style>\n",
              "\n",
              "      <script>\n",
              "        const buttonEl =\n",
              "          document.querySelector('#df-a7dd30a4-d3d8-46a2-80e3-3ee92d3e77e8 button.colab-df-convert');\n",
              "        buttonEl.style.display =\n",
              "          google.colab.kernel.accessAllowed ? 'block' : 'none';\n",
              "\n",
              "        async function convertToInteractive(key) {\n",
              "          const element = document.querySelector('#df-a7dd30a4-d3d8-46a2-80e3-3ee92d3e77e8');\n",
              "          const dataTable =\n",
              "            await google.colab.kernel.invokeFunction('convertToInteractive',\n",
              "                                                     [key], {});\n",
              "          if (!dataTable) return;\n",
              "\n",
              "          const docLinkHtml = 'Like what you see? Visit the ' +\n",
              "            '<a target=\"_blank\" href=https://colab.research.google.com/notebooks/data_table.ipynb>data table notebook</a>'\n",
              "            + ' to learn more about interactive tables.';\n",
              "          element.innerHTML = '';\n",
              "          dataTable['output_type'] = 'display_data';\n",
              "          await google.colab.output.renderOutput(dataTable, element);\n",
              "          const docLink = document.createElement('div');\n",
              "          docLink.innerHTML = docLinkHtml;\n",
              "          element.appendChild(docLink);\n",
              "        }\n",
              "      </script>\n",
              "    </div>\n",
              "  </div>\n",
              "  "
            ]
          },
          "metadata": {},
          "execution_count": 42
        }
      ],
      "source": [
        "# check clean dataset\n",
        "df.head()"
      ]
    },
    {
      "cell_type": "markdown",
      "metadata": {
        "id": "Jntvi6_dB89k"
      },
      "source": [
        "# 3. Analysis"
      ]
    },
    {
      "cell_type": "markdown",
      "source": [
        "3.1 Arrest trend by month"
      ],
      "metadata": {
        "id": "0IW8xBxHgkV8"
      }
    },
    {
      "cell_type": "code",
      "execution_count": 43,
      "metadata": {
        "colab": {
          "base_uri": "https://localhost:8080/"
        },
        "id": "6Ws6lgZkoy7S",
        "outputId": "7a351e5e-4bfb-46f0-e6b6-7a6c9fabb6ca"
      },
      "outputs": [
        {
          "output_type": "execute_result",
          "data": {
            "text/plain": [
              "2022-06-01    746\n",
              "2022-05-04    744\n",
              "2022-05-05    735\n",
              "2022-03-02    723\n",
              "2022-06-07    716\n",
              "             ... \n",
              "2022-01-02    262\n",
              "2022-01-28    252\n",
              "2022-04-17    245\n",
              "2022-01-30    243\n",
              "2022-01-29    223\n",
              "Name: ARREST_DATE, Length: 181, dtype: int64"
            ]
          },
          "metadata": {},
          "execution_count": 43
        }
      ],
      "source": [
        "df['ARREST_DATE']=pd.to_datetime(df['ARREST_DATE'])\n",
        "df['ARREST_DATE'].value_counts()"
      ]
    },
    {
      "cell_type": "code",
      "execution_count": 44,
      "metadata": {
        "colab": {
          "base_uri": "https://localhost:8080/",
          "height": 542
        },
        "id": "l-SRq8t3tSUe",
        "outputId": "f7f506e6-e5fd-4f7c-dcb2-486736656878"
      },
      "outputs": [
        {
          "output_type": "execute_result",
          "data": {
            "text/plain": [
              "<matplotlib.axes._subplots.AxesSubplot at 0x7f5cb5817710>"
            ]
          },
          "metadata": {},
          "execution_count": 44
        },
        {
          "output_type": "display_data",
          "data": {
            "text/plain": [
              "<Figure size 1008x576 with 1 Axes>"
            ],
            "image/png": "[encoded data removed]"
          },
          "metadata": {
            "needs_background": "light"
          }
        }
      ],
      "source": [
        "df.groupby(['ARREST_DATE'])['ARREST_KEY'].count().plot(kind='line',title='Trend by Month',figsize=(14,8))"
      ]
    },
    {
      "cell_type": "markdown",
      "source": [
        "It`s interesting how up and down the data goes.The beginning of May and June have the highest crime rates. \n",
        "\n",
        "---\n",
        "\n"
      ],
      "metadata": {
        "id": "5X6blG70mZ7R"
      }
    },
    {
      "cell_type": "markdown",
      "metadata": {
        "id": "RoDzdXtzCBRp"
      },
      "source": [
        "3.2 Types of crimes"
      ]
    },
    {
      "cell_type": "markdown",
      "source": [
        "From the data and the graph below Assault & Related Offenses is the most popular offense, followed by Petit Larceny and Felony"
      ],
      "metadata": {
        "id": "Cd57JhiEnFDT"
      }
    },
    {
      "cell_type": "code",
      "execution_count": 45,
      "metadata": {
        "colab": {
          "base_uri": "https://localhost:8080/"
        },
        "id": "ln85Z1XqLy2u",
        "outputId": "bdc6bc3b-d3f3-4d6e-a8e3-11779ab1a98e"
      },
      "outputs": [
        {
          "output_type": "execute_result",
          "data": {
            "text/plain": [
              "ASSAULT 3 & RELATED OFFENSES      15402\n",
              "PETIT LARCENY                      9944\n",
              "FELONY ASSAULT                     9128\n",
              "MISCELLANEOUS PENAL LAW            6187\n",
              "DANGEROUS DRUGS                    5256\n",
              "CRIMINAL MISCHIEF & RELATED OF     5192\n",
              "ROBBERY                            4839\n",
              "GRAND LARCENY                      4035\n",
              "DANGEROUS WEAPONS                  3917\n",
              "BURGLARY                           3171\n",
              "VEHICLE AND TRAFFIC LAWS           2993\n",
              "OFFENSES AGAINST PUBLIC ADMINI     2798\n",
              "OFFENSES INVOLVING FRAUD           2629\n",
              "SEX CRIMES                         2092\n",
              "OFF. AGNST PUB ORD SENSBLTY &      2032\n",
              "Name: OFNS_DESC, dtype: int64"
            ]
          },
          "metadata": {},
          "execution_count": 45
        }
      ],
      "source": [
        "# top 15 Offenses\n",
        "df.OFNS_DESC.value_counts().iloc[:15]"
      ]
    },
    {
      "cell_type": "code",
      "execution_count": 46,
      "metadata": {
        "colab": {
          "base_uri": "https://localhost:8080/",
          "height": 298
        },
        "id": "Cn5THyfwE8qk",
        "outputId": "8766633e-51b0-4526-f411-dd629a7122ba"
      },
      "outputs": [
        {
          "output_type": "execute_result",
          "data": {
            "text/plain": [
              "<matplotlib.axes._subplots.AxesSubplot at 0x7f5cb56f36d0>"
            ]
          },
          "metadata": {},
          "execution_count": 46
        },
        {
          "output_type": "display_data",
          "data": {
            "text/plain": [
              "<Figure size 432x288 with 1 Axes>"
            ],
            "image/png": "[encoded data removed]"
          },
          "metadata": {
            "needs_background": "light"
          }
        }
      ],
      "source": [
        "df.OFNS_DESC.value_counts().iloc[:15].sort_values().plot(kind=\"barh\", title = \"Types of Offenses\")"
      ]
    },
    {
      "cell_type": "markdown",
      "source": [
        "3.3 Level of offense"
      ],
      "metadata": {
        "id": "YnTJaCezg4NU"
      }
    },
    {
      "cell_type": "markdown",
      "source": [
        "54% of offenses were clasified as M=Misdemeanors,\n",
        "45% as F=Felonies,\n",
        "the rest V=Violations or Unknown"
      ],
      "metadata": {
        "id": "BJ48Ge4oncuE"
      }
    },
    {
      "cell_type": "code",
      "execution_count": 47,
      "metadata": {
        "colab": {
          "base_uri": "https://localhost:8080/",
          "height": 497
        },
        "id": "-Uk6UZiGQdJd",
        "outputId": "9909ee69-57b6-4fba-9d5c-58cae8bc270d"
      },
      "outputs": [
        {
          "output_type": "execute_result",
          "data": {
            "text/plain": [
              "array([<matplotlib.axes._subplots.AxesSubplot object at 0x7f5cb56cad50>],\n",
              "      dtype=object)"
            ]
          },
          "metadata": {},
          "execution_count": 47
        },
        {
          "output_type": "display_data",
          "data": {
            "text/plain": [
              "<Figure size 1080x504 with 1 Axes>"
            ],
            "image/png": "[encoded data removed]"
          },
          "metadata": {}
        }
      ],
      "source": [
        "df['LAW_CAT_CD'].value_counts().sort_values().plot(kind='pie',subplots=True,figsize=(15,7),autopct='%1.0f%%',title='Level of Offense')"
      ]
    },
    {
      "cell_type": "markdown",
      "metadata": {
        "id": "BRMz9uaeXnUF"
      },
      "source": [
        "3.4 Crimes by Borough and Race"
      ]
    },
    {
      "cell_type": "markdown",
      "source": [
        "Brooklyn has the highest number of arrests overall, followed by Manhattan,Bronx,Queens and Staten Island. \n",
        "In general,Black and White people are more arrested in Brooklyn and Hispanic in Bronx"
      ],
      "metadata": {
        "id": "MQUkoMBeoUVe"
      }
    },
    {
      "cell_type": "code",
      "execution_count": 48,
      "metadata": {
        "colab": {
          "base_uri": "https://localhost:8080/"
        },
        "id": "drP-IJqDksv-",
        "outputId": "501cf37a-c9f8-4cba-9258-d2e6c79d2729"
      },
      "outputs": [
        {
          "output_type": "execute_result",
          "data": {
            "text/plain": [
              "Brooklyn         25404\n",
              "Manhatan         22981\n",
              "Bronx            21176\n",
              "Queens           19181\n",
              "Staten Island     4192\n",
              "Name: ARREST_BORO, dtype: int64"
            ]
          },
          "metadata": {},
          "execution_count": 48
        }
      ],
      "source": [
        "df.ARREST_BORO.value_counts()"
      ]
    },
    {
      "cell_type": "code",
      "execution_count": 49,
      "metadata": {
        "colab": {
          "base_uri": "https://localhost:8080/",
          "height": 354
        },
        "id": "mSl_8xnrkJUG",
        "outputId": "83daf3f1-88fc-4bc4-a910-77b1c44a8c8d"
      },
      "outputs": [
        {
          "output_type": "execute_result",
          "data": {
            "text/plain": [
              "<matplotlib.axes._subplots.AxesSubplot at 0x7f5cb5597150>"
            ]
          },
          "metadata": {},
          "execution_count": 49
        },
        {
          "output_type": "display_data",
          "data": {
            "text/plain": [
              "<Figure size 432x288 with 1 Axes>"
            ],
            "image/png": "[encoded data removed]"
          },
          "metadata": {
            "needs_background": "light"
          }
        }
      ],
      "source": [
        "df['ARREST_BORO'].value_counts().sort_values().plot(kind='bar',title='Crimes by Borough')"
      ]
    },
    {
      "cell_type": "markdown",
      "metadata": {
        "id": "Go1rEma_lPKh"
      },
      "source": [
        "3.5 Crimes by Race"
      ]
    },
    {
      "cell_type": "code",
      "execution_count": 50,
      "metadata": {
        "colab": {
          "base_uri": "https://localhost:8080/"
        },
        "id": "HDnQcZHclbGM",
        "outputId": "af7cb561-c948-4047-dd00-7c5351f2f7f7"
      },
      "outputs": [
        {
          "output_type": "execute_result",
          "data": {
            "text/plain": [
              "BLACK                             45976\n",
              "WHITE HISPANIC                    23307\n",
              "WHITE                              9925\n",
              "BLACK HISPANIC                     8179\n",
              "ASIAN / PACIFIC ISLANDER           4978\n",
              "UNKNOWN                             330\n",
              "AMERICAN INDIAN/ALASKAN NATIVE      239\n",
              "Name: PERP_RACE, dtype: int64"
            ]
          },
          "metadata": {},
          "execution_count": 50
        }
      ],
      "source": [
        "df.PERP_RACE.value_counts()"
      ]
    },
    {
      "cell_type": "code",
      "execution_count": 51,
      "metadata": {
        "colab": {
          "base_uri": "https://localhost:8080/",
          "height": 468
        },
        "id": "LpxFywH6ltXO",
        "outputId": "bfbb5bb7-5d63-43c3-dbf3-01f825cf1c36"
      },
      "outputs": [
        {
          "output_type": "execute_result",
          "data": {
            "text/plain": [
              "<matplotlib.axes._subplots.AxesSubplot at 0x7f5cb55cb990>"
            ]
          },
          "metadata": {},
          "execution_count": 51
        },
        {
          "output_type": "display_data",
          "data": {
            "text/plain": [
              "<Figure size 432x288 with 1 Axes>"
            ],
            "image/png": "[encoded data removed]"
          },
          "metadata": {
            "needs_background": "light"
          }
        }
      ],
      "source": [
        "df['PERP_RACE'].value_counts().sort_values().plot(kind='bar',title='Crimes by Race')"
      ]
    },
    {
      "cell_type": "code",
      "execution_count": 52,
      "metadata": {
        "colab": {
          "base_uri": "https://localhost:8080/",
          "height": 715
        },
        "id": "eMWTFt-Fz8SE",
        "outputId": "92511613-89d4-40a5-898c-cfcad5b5eded"
      },
      "outputs": [
        {
          "output_type": "display_data",
          "data": {
            "text/plain": [
              "<Figure size 1440x864 with 1 Axes>"
            ],
            "image/png": "[encoded data removed]"
          },
          "metadata": {
            "needs_background": "light"
          }
        }
      ],
      "source": [
        "plt.figure(figsize=(20,12))\n",
        "p=sns.countplot(x=df.PERP_RACE,hue=df.ARREST_BORO)\n"
      ]
    },
    {
      "cell_type": "markdown",
      "source": [
        "# 4.Insights"
      ],
      "metadata": {
        "id": "Ibe6xCKSh1si"
      }
    },
    {
      "cell_type": "markdown",
      "source": [
        "Doing this analysis l focused on the crimes overall in different boroughs, race group and level of offense.We can also analyse the data focusing on a specific type of offense or age group. \n",
        "\n",
        "Results:\n",
        "\n",
        "* Assault & Related Offenses is the most popular offense,15402 arrests, followed by Petit Larceny and Felony\n",
        "*   54% of offenses were clasified as Misdemeanors, 45% as Felonies, the rest V=Violations or Unknown\n",
        "*   Brooklyn is the borough with the highest number of arrests, 25404 in the past 6 months; followed by Manhatan 22981 arrests and Bronx 21176 arrests.\n",
        "*   Black people tend to get arrested more overall and with the highest number in Brooklyn, followed by Manhattan and Bronx. White people are more arrested in Brookyn, White Hispanic in Bronx and Asian in Queens\n",
        "\n",
        "\n",
        "\n",
        "\n",
        "\n",
        "\n",
        "\n"
      ],
      "metadata": {
        "id": "JkTFWxkSh7Gg"
      }
    },
    {
      "cell_type": "markdown",
      "source": [
        "End of this Notebook"
      ],
      "metadata": {
        "id": "f1ZztXMCsaTn"
      }
    }
  ],
  "metadata": {
    "colab": {
      "name": "ArrestDataNYC2022.ipynb",
      "provenance": [],
      "collapsed_sections": [],
      "authorship_tag": "ABX9TyMHpdK05xhiMWnr/OqxLkzb",
      "include_colab_link": true
    },
    "kernelspec": {
      "display_name": "Python 3",
      "name": "python3"
    },
    "language_info": {
      "name": "python"
    }
  },
  "nbformat": 4,
  "nbformat_minor": 0
}