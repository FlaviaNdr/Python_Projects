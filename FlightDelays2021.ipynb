{
  "cells": [
    {
      "cell_type": "markdown",
      "metadata": {
        "id": "view-in-github",
        "colab_type": "text"
      },
      "source": [
        "<a href=\"https://colab.research.google.com/github/FlaviaNdr/Python_Projects/blob/main/FlightDelays2021.ipynb\" target=\"_parent\"><img src=\"https://colab.research.google.com/assets/colab-badge.svg\" alt=\"Open In Colab\"/></a>"
      ]
    },
    {
      "cell_type": "markdown",
      "metadata": {
        "id": "JVOqav6E49qE"
      },
      "source": [
        "# **Analysis of flights delays in 2021**"
      ]
    },
    {
      "cell_type": "markdown",
      "metadata": {
        "id": "NACoRN2QuAUW"
      },
      "source": [
        "The Dataset includes all flight delays for the past year. The dataset can be downloaded from the Bureau of Transportation Statistics (https://www.transtats.bts.gov/OT_Delay/OT_DelayCause1.asp)"
      ]
    },
    {
      "cell_type": "markdown",
      "metadata": {
        "id": "XzyBrgUi4gNH"
      },
      "source": [
        "# 1.Import Libraries and Data"
      ]
    },
    {
      "cell_type": "code",
      "execution_count": 105,
      "metadata": {
        "id": "BoyIZKt-5UkA"
      },
      "outputs": [],
      "source": [
        "# Import Libraries\n",
        "import pandas as pd\n",
        "import numpy as np\n",
        "import matplotlib.pyplot as plt\n",
        "from matplotlib import cm\n",
        "import plotly.graph_objs as go\n",
        "import plotly.offline as py\n",
        "import seaborn as sns"
      ]
    },
    {
      "cell_type": "code",
      "execution_count": 106,
      "metadata": {
        "id": "Val8As3R5SiY"
      },
      "outputs": [],
      "source": [
        "# Import Dataset')\n",
        "df = pd.read_csv('https://raw.githubusercontent.com/FlaviaNdr/Python_Projects/main/Airline_Delay_Cause.csv')"
      ]
    },
    {
      "cell_type": "markdown",
      "metadata": {
        "id": "ASHQ5xFa5v-l"
      },
      "source": [
        "# 2.Data exploration and cleaning"
      ]
    },
    {
      "cell_type": "markdown",
      "metadata": {
        "id": "gpxeBIdf57uw"
      },
      "source": [
        "Check the data"
      ]
    },
    {
      "cell_type": "code",
      "execution_count": 107,
      "metadata": {
        "colab": {
          "base_uri": "https://localhost:8080/",
          "height": 386
        },
        "id": "nK0Oat4J5-Cn",
        "outputId": "36374c6a-34c0-4007-cdc0-284090855683"
      },
      "outputs": [
        {
          "output_type": "execute_result",
          "data": {
            "text/plain": [
              "   year  month carrier       carrier_name airport  \\\n",
              "0  2021     12      9E  Endeavor Air Inc.     ABE   \n",
              "1  2021     12      9E  Endeavor Air Inc.     ABY   \n",
              "2  2021     12      9E  Endeavor Air Inc.     AEX   \n",
              "3  2021     12      9E  Endeavor Air Inc.     AGS   \n",
              "4  2021     12      9E  Endeavor Air Inc.     ALB   \n",
              "\n",
              "                                        airport_name  arr_flights  arr_del15  \\\n",
              "0  Allentown/Bethlehem/Easton, PA: Lehigh Valley ...        127.0        9.0   \n",
              "1             Albany, GA: Southwest Georgia Regional         73.0       11.0   \n",
              "2           Alexandria, LA: Alexandria International         62.0        8.0   \n",
              "3        Augusta, GA: Augusta Regional at Bush Field        166.0       18.0   \n",
              "4                   Albany, NY: Albany International         52.0        6.0   \n",
              "\n",
              "   carrier_ct  weather_ct  ...  security_ct  late_aircraft_ct  arr_cancelled  \\\n",
              "0        2.51        0.00  ...          0.0              2.95            0.0   \n",
              "1        5.02        0.00  ...          0.0              1.87            0.0   \n",
              "2        2.63        0.00  ...          0.0              1.15            0.0   \n",
              "3        8.53        3.25  ...          0.0              2.74            0.0   \n",
              "4        3.15        1.88  ...          0.0              0.82            0.0   \n",
              "\n",
              "   arr_diverted  arr_delay  carrier_delay  weather_delay  nas_delay  \\\n",
              "0           0.0      264.0          119.0            0.0       68.0   \n",
              "1           0.0      342.0          125.0            0.0      142.0   \n",
              "2           0.0      439.0          156.0            0.0      103.0   \n",
              "3           1.0     1266.0          291.0          693.0      167.0   \n",
              "4           0.0      497.0          278.0          180.0       21.0   \n",
              "\n",
              "   security_delay  late_aircraft_delay  \n",
              "0             0.0                 77.0  \n",
              "1             0.0                 75.0  \n",
              "2             0.0                180.0  \n",
              "3             0.0                115.0  \n",
              "4             0.0                 18.0  \n",
              "\n",
              "[5 rows x 21 columns]"
            ],
            "text/html": [
              "\n",
              "  <div id=\"df-94d9c829-2959-489f-bd5f-94ac6f350077\">\n",
              "    <div class=\"colab-df-container\">\n",
              "      <div>\n",
              "<style scoped>\n",
              "    .dataframe tbody tr th:only-of-type {\n",
              "        vertical-align: middle;\n",
              "    }\n",
              "\n",
              "    .dataframe tbody tr th {\n",
              "        vertical-align: top;\n",
              "    }\n",
              "\n",
              "    .dataframe thead th {\n",
              "        text-align: right;\n",
              "    }\n",
              "</style>\n",
              "<table border=\"1\" class=\"dataframe\">\n",
              "  <thead>\n",
              "    <tr style=\"text-align: right;\">\n",
              "      <th></th>\n",
              "      <th>year</th>\n",
              "      <th>month</th>\n",
              "      <th>carrier</th>\n",
              "      <th>carrier_name</th>\n",
              "      <th>airport</th>\n",
              "      <th>airport_name</th>\n",
              "      <th>arr_flights</th>\n",
              "      <th>arr_del15</th>\n",
              "      <th>carrier_ct</th>\n",
              "      <th>weather_ct</th>\n",
              "      <th>...</th>\n",
              "      <th>security_ct</th>\n",
              "      <th>late_aircraft_ct</th>\n",
              "      <th>arr_cancelled</th>\n",
              "      <th>arr_diverted</th>\n",
              "      <th>arr_delay</th>\n",
              "      <th>carrier_delay</th>\n",
              "      <th>weather_delay</th>\n",
              "      <th>nas_delay</th>\n",
              "      <th>security_delay</th>\n",
              "      <th>late_aircraft_delay</th>\n",
              "    </tr>\n",
              "  </thead>\n",
              "  <tbody>\n",
              "    <tr>\n",
              "      <th>0</th>\n",
              "      <td>2021</td>\n",
              "      <td>12</td>\n",
              "      <td>9E</td>\n",
              "      <td>Endeavor Air Inc.</td>\n",
              "      <td>ABE</td>\n",
              "      <td>Allentown/Bethlehem/Easton, PA: Lehigh Valley ...</td>\n",
              "      <td>127.0</td>\n",
              "      <td>9.0</td>\n",
              "      <td>2.51</td>\n",
              "      <td>0.00</td>\n",
              "      <td>...</td>\n",
              "      <td>0.0</td>\n",
              "      <td>2.95</td>\n",
              "      <td>0.0</td>\n",
              "      <td>0.0</td>\n",
              "      <td>264.0</td>\n",
              "      <td>119.0</td>\n",
              "      <td>0.0</td>\n",
              "      <td>68.0</td>\n",
              "      <td>0.0</td>\n",
              "      <td>77.0</td>\n",
              "    </tr>\n",
              "    <tr>\n",
              "      <th>1</th>\n",
              "      <td>2021</td>\n",
              "      <td>12</td>\n",
              "      <td>9E</td>\n",
              "      <td>Endeavor Air Inc.</td>\n",
              "      <td>ABY</td>\n",
              "      <td>Albany, GA: Southwest Georgia Regional</td>\n",
              "      <td>73.0</td>\n",
              "      <td>11.0</td>\n",
              "      <td>5.02</td>\n",
              "      <td>0.00</td>\n",
              "      <td>...</td>\n",
              "      <td>0.0</td>\n",
              "      <td>1.87</td>\n",
              "      <td>0.0</td>\n",
              "      <td>0.0</td>\n",
              "      <td>342.0</td>\n",
              "      <td>125.0</td>\n",
              "      <td>0.0</td>\n",
              "      <td>142.0</td>\n",
              "      <td>0.0</td>\n",
              "      <td>75.0</td>\n",
              "    </tr>\n",
              "    <tr>\n",
              "      <th>2</th>\n",
              "      <td>2021</td>\n",
              "      <td>12</td>\n",
              "      <td>9E</td>\n",
              "      <td>Endeavor Air Inc.</td>\n",
              "      <td>AEX</td>\n",
              "      <td>Alexandria, LA: Alexandria International</td>\n",
              "      <td>62.0</td>\n",
              "      <td>8.0</td>\n",
              "      <td>2.63</td>\n",
              "      <td>0.00</td>\n",
              "      <td>...</td>\n",
              "      <td>0.0</td>\n",
              "      <td>1.15</td>\n",
              "      <td>0.0</td>\n",
              "      <td>0.0</td>\n",
              "      <td>439.0</td>\n",
              "      <td>156.0</td>\n",
              "      <td>0.0</td>\n",
              "      <td>103.0</td>\n",
              "      <td>0.0</td>\n",
              "      <td>180.0</td>\n",
              "    </tr>\n",
              "    <tr>\n",
              "      <th>3</th>\n",
              "      <td>2021</td>\n",
              "      <td>12</td>\n",
              "      <td>9E</td>\n",
              "      <td>Endeavor Air Inc.</td>\n",
              "      <td>AGS</td>\n",
              "      <td>Augusta, GA: Augusta Regional at Bush Field</td>\n",
              "      <td>166.0</td>\n",
              "      <td>18.0</td>\n",
              "      <td>8.53</td>\n",
              "      <td>3.25</td>\n",
              "      <td>...</td>\n",
              "      <td>0.0</td>\n",
              "      <td>2.74</td>\n",
              "      <td>0.0</td>\n",
              "      <td>1.0</td>\n",
              "      <td>1266.0</td>\n",
              "      <td>291.0</td>\n",
              "      <td>693.0</td>\n",
              "      <td>167.0</td>\n",
              "      <td>0.0</td>\n",
              "      <td>115.0</td>\n",
              "    </tr>\n",
              "    <tr>\n",
              "      <th>4</th>\n",
              "      <td>2021</td>\n",
              "      <td>12</td>\n",
              "      <td>9E</td>\n",
              "      <td>Endeavor Air Inc.</td>\n",
              "      <td>ALB</td>\n",
              "      <td>Albany, NY: Albany International</td>\n",
              "      <td>52.0</td>\n",
              "      <td>6.0</td>\n",
              "      <td>3.15</td>\n",
              "      <td>1.88</td>\n",
              "      <td>...</td>\n",
              "      <td>0.0</td>\n",
              "      <td>0.82</td>\n",
              "      <td>0.0</td>\n",
              "      <td>0.0</td>\n",
              "      <td>497.0</td>\n",
              "      <td>278.0</td>\n",
              "      <td>180.0</td>\n",
              "      <td>21.0</td>\n",
              "      <td>0.0</td>\n",
              "      <td>18.0</td>\n",
              "    </tr>\n",
              "  </tbody>\n",
              "</table>\n",
              "<p>5 rows × 21 columns</p>\n",
              "</div>\n",
              "      <button class=\"colab-df-convert\" onclick=\"convertToInteractive('df-94d9c829-2959-489f-bd5f-94ac6f350077')\"\n",
              "              title=\"Convert this dataframe to an interactive table.\"\n",
              "              style=\"display:none;\">\n",
              "        \n",
              "  <svg xmlns=\"http://www.w3.org/2000/svg\" height=\"24px\"viewBox=\"0 0 24 24\"\n",
              "       width=\"24px\">\n",
              "    <path d=\"M0 0h24v24H0V0z\" fill=\"none\"/>\n",
              "    <path d=\"M18.56 5.44l.94 2.06.94-2.06 2.06-.94-2.06-.94-.94-2.06-.94 2.06-2.06.94zm-11 1L8.5 8.5l.94-2.06 2.06-.94-2.06-.94L8.5 2.5l-.94 2.06-2.06.94zm10 10l.94 2.06.94-2.06 2.06-.94-2.06-.94-.94-2.06-.94 2.06-2.06.94z\"/><path d=\"M17.41 7.96l-1.37-1.37c-.4-.4-.92-.59-1.43-.59-.52 0-1.04.2-1.43.59L10.3 9.45l-7.72 7.72c-.78.78-.78 2.05 0 2.83L4 21.41c.39.39.9.59 1.41.59.51 0 1.02-.2 1.41-.59l7.78-7.78 2.81-2.81c.8-.78.8-2.07 0-2.86zM5.41 20L4 18.59l7.72-7.72 1.47 1.35L5.41 20z\"/>\n",
              "  </svg>\n",
              "      </button>\n",
              "      \n",
              "  <style>\n",
              "    .colab-df-container {\n",
              "      display:flex;\n",
              "      flex-wrap:wrap;\n",
              "      gap: 12px;\n",
              "    }\n",
              "\n",
              "    .colab-df-convert {\n",
              "      background-color: #E8F0FE;\n",
              "      border: none;\n",
              "      border-radius: 50%;\n",
              "      cursor: pointer;\n",
              "      display: none;\n",
              "      fill: #1967D2;\n",
              "      height: 32px;\n",
              "      padding: 0 0 0 0;\n",
              "      width: 32px;\n",
              "    }\n",
              "\n",
              "    .colab-df-convert:hover {\n",
              "      background-color: #E2EBFA;\n",
              "      box-shadow: 0px 1px 2px rgba(60, 64, 67, 0.3), 0px 1px 3px 1px rgba(60, 64, 67, 0.15);\n",
              "      fill: #174EA6;\n",
              "    }\n",
              "\n",
              "    [theme=dark] .colab-df-convert {\n",
              "      background-color: #3B4455;\n",
              "      fill: #D2E3FC;\n",
              "    }\n",
              "\n",
              "    [theme=dark] .colab-df-convert:hover {\n",
              "      background-color: #434B5C;\n",
              "      box-shadow: 0px 1px 3px 1px rgba(0, 0, 0, 0.15);\n",
              "      filter: drop-shadow(0px 1px 2px rgba(0, 0, 0, 0.3));\n",
              "      fill: #FFFFFF;\n",
              "    }\n",
              "  </style>\n",
              "\n",
              "      <script>\n",
              "        const buttonEl =\n",
              "          document.querySelector('#df-94d9c829-2959-489f-bd5f-94ac6f350077 button.colab-df-convert');\n",
              "        buttonEl.style.display =\n",
              "          google.colab.kernel.accessAllowed ? 'block' : 'none';\n",
              "\n",
              "        async function convertToInteractive(key) {\n",
              "          const element = document.querySelector('#df-94d9c829-2959-489f-bd5f-94ac6f350077');\n",
              "          const dataTable =\n",
              "            await google.colab.kernel.invokeFunction('convertToInteractive',\n",
              "                                                     [key], {});\n",
              "          if (!dataTable) return;\n",
              "\n",
              "          const docLinkHtml = 'Like what you see? Visit the ' +\n",
              "            '<a target=\"_blank\" href=https://colab.research.google.com/notebooks/data_table.ipynb>data table notebook</a>'\n",
              "            + ' to learn more about interactive tables.';\n",
              "          element.innerHTML = '';\n",
              "          dataTable['output_type'] = 'display_data';\n",
              "          await google.colab.output.renderOutput(dataTable, element);\n",
              "          const docLink = document.createElement('div');\n",
              "          docLink.innerHTML = docLinkHtml;\n",
              "          element.appendChild(docLink);\n",
              "        }\n",
              "      </script>\n",
              "    </div>\n",
              "  </div>\n",
              "  "
            ]
          },
          "metadata": {},
          "execution_count": 107
        }
      ],
      "source": [
        "df.head()"
      ]
    },
    {
      "cell_type": "code",
      "execution_count": 108,
      "metadata": {
        "colab": {
          "base_uri": "https://localhost:8080/"
        },
        "id": "vM1zRMzS6V3Q",
        "outputId": "4ddd5df4-e075-4a05-f2a9-4ef3334ad717"
      },
      "outputs": [
        {
          "output_type": "execute_result",
          "data": {
            "text/plain": [
              "(19954, 21)"
            ]
          },
          "metadata": {},
          "execution_count": 108
        }
      ],
      "source": [
        "df.shape "
      ]
    },
    {
      "cell_type": "code",
      "execution_count": 109,
      "metadata": {
        "colab": {
          "base_uri": "https://localhost:8080/"
        },
        "id": "72v0It0b-M9B",
        "outputId": "4cee811d-18e3-4b8f-b88a-762d98328e63"
      },
      "outputs": [
        {
          "output_type": "execute_result",
          "data": {
            "text/plain": [
              "Index(['year', 'month', 'carrier', 'carrier_name', 'airport', 'airport_name',\n",
              "       'arr_flights', 'arr_del15', 'carrier_ct', 'weather_ct', 'nas_ct',\n",
              "       'security_ct', 'late_aircraft_ct', 'arr_cancelled', 'arr_diverted',\n",
              "       'arr_delay', 'carrier_delay', 'weather_delay', 'nas_delay',\n",
              "       'security_delay', 'late_aircraft_delay'],\n",
              "      dtype='object')"
            ]
          },
          "metadata": {},
          "execution_count": 109
        }
      ],
      "source": [
        "df.columns"
      ]
    },
    {
      "cell_type": "code",
      "execution_count": 110,
      "metadata": {
        "id": "YWdGZweajtvN"
      },
      "outputs": [],
      "source": [
        "# renaming columns\n",
        "df.columns=['Year','Month','Carrier','Carrier Name','Airport','Airport Name','No Arrived Flights','No Delayed Arrivals','No Carrier Del','No Weather Del','No Nas Del','No Security Del','No Late Aircraft Del','No Arrivals Cancelled','No Arrivals Diverted', 'Arrival Delay','Carrier Delay','Weather Delay','Nas Delay','Security delay','Late Aircraft Delay']\n"
      ]
    },
    {
      "cell_type": "code",
      "execution_count": 111,
      "metadata": {
        "colab": {
          "base_uri": "https://localhost:8080/",
          "height": 399
        },
        "id": "b_J5Gcohs2rr",
        "outputId": "db6cdeac-a378-42e5-bb60-90d00d2650b2"
      },
      "outputs": [
        {
          "output_type": "execute_result",
          "data": {
            "text/plain": [
              "          Year        Month  No Arrived Flights  No Delayed Arrivals  \\\n",
              "count  19954.0  19954.00000        19932.000000         19929.000000   \n",
              "mean    2021.0      6.63486          300.792545            50.696573   \n",
              "std        0.0      3.42493          837.504976           145.076311   \n",
              "min     2021.0      1.00000            1.000000             0.000000   \n",
              "25%     2021.0      4.00000           40.000000             5.000000   \n",
              "50%     2021.0      7.00000           88.000000            13.000000   \n",
              "75%     2021.0     10.00000          210.000000            35.000000   \n",
              "max     2021.0     12.00000        17547.000000          3402.000000   \n",
              "\n",
              "       No Carrier Del  No Weather Del    No Nas Del  No Security Del  \\\n",
              "count    19932.000000    19932.000000  19932.000000     19932.000000   \n",
              "mean        19.768108        2.219045     12.394351         0.235887   \n",
              "std         52.783468        7.854232     42.663588         1.037067   \n",
              "min          0.000000        0.000000      0.000000         0.000000   \n",
              "25%          2.000000        0.000000      0.380000         0.000000   \n",
              "50%          5.195000        0.260000      2.570000         0.000000   \n",
              "75%         15.000000        1.770000      7.952500         0.000000   \n",
              "max       1147.000000      226.000000    908.110000        41.970000   \n",
              "\n",
              "       No Late Aircraft Del  No Arrivals Cancelled  No Arrivals Diverted  \\\n",
              "count           19932.00000           19932.000000          19932.000000   \n",
              "mean               16.07160               5.170580              0.708258   \n",
              "std                54.31714              24.742801              3.355977   \n",
              "min                 0.00000               0.000000              0.000000   \n",
              "25%                 0.86000               0.000000              0.000000   \n",
              "50%                 3.00000               1.000000              0.000000   \n",
              "75%                 9.77000               3.000000              0.000000   \n",
              "max              1531.81000            1036.000000            154.000000   \n",
              "\n",
              "       Arrival Delay  Carrier Delay  Weather Delay     Nas Delay  \\\n",
              "count   19932.000000   19932.000000   19932.000000  19932.000000   \n",
              "mean     3342.028447    1364.502960     229.781407    558.403321   \n",
              "std     10515.311519    4296.182353     902.669264   2193.915997   \n",
              "min         0.000000       0.000000       0.000000      0.000000   \n",
              "25%       254.000000      86.000000       0.000000     14.000000   \n",
              "50%       768.000000     294.000000      14.000000     93.000000   \n",
              "75%      2189.250000     968.000000     138.000000    310.000000   \n",
              "max    305694.000000  111645.000000   27876.000000  63629.000000   \n",
              "\n",
              "       Security delay  Late Aircraft Delay  \n",
              "count    19932.000000         19932.000000  \n",
              "mean        11.338551          1178.001204  \n",
              "std         60.179166          4108.819770  \n",
              "min          0.000000             0.000000  \n",
              "25%          0.000000            28.000000  \n",
              "50%          0.000000           190.000000  \n",
              "75%          0.000000           707.250000  \n",
              "max       3760.000000        143192.000000  "
            ],
            "text/html": [
              "\n",
              "  <div id=\"df-3bcb2cc2-ea78-4870-ad50-8a013b356377\">\n",
              "    <div class=\"colab-df-container\">\n",
              "      <div>\n",
              "<style scoped>\n",
              "    .dataframe tbody tr th:only-of-type {\n",
              "        vertical-align: middle;\n",
              "    }\n",
              "\n",
              "    .dataframe tbody tr th {\n",
              "        vertical-align: top;\n",
              "    }\n",
              "\n",
              "    .dataframe thead th {\n",
              "        text-align: right;\n",
              "    }\n",
              "</style>\n",
              "<table border=\"1\" class=\"dataframe\">\n",
              "  <thead>\n",
              "    <tr style=\"text-align: right;\">\n",
              "      <th></th>\n",
              "      <th>Year</th>\n",
              "      <th>Month</th>\n",
              "      <th>No Arrived Flights</th>\n",
              "      <th>No Delayed Arrivals</th>\n",
              "      <th>No Carrier Del</th>\n",
              "      <th>No Weather Del</th>\n",
              "      <th>No Nas Del</th>\n",
              "      <th>No Security Del</th>\n",
              "      <th>No Late Aircraft Del</th>\n",
              "      <th>No Arrivals Cancelled</th>\n",
              "      <th>No Arrivals Diverted</th>\n",
              "      <th>Arrival Delay</th>\n",
              "      <th>Carrier Delay</th>\n",
              "      <th>Weather Delay</th>\n",
              "      <th>Nas Delay</th>\n",
              "      <th>Security delay</th>\n",
              "      <th>Late Aircraft Delay</th>\n",
              "    </tr>\n",
              "  </thead>\n",
              "  <tbody>\n",
              "    <tr>\n",
              "      <th>count</th>\n",
              "      <td>19954.0</td>\n",
              "      <td>19954.00000</td>\n",
              "      <td>19932.000000</td>\n",
              "      <td>19929.000000</td>\n",
              "      <td>19932.000000</td>\n",
              "      <td>19932.000000</td>\n",
              "      <td>19932.000000</td>\n",
              "      <td>19932.000000</td>\n",
              "      <td>19932.00000</td>\n",
              "      <td>19932.000000</td>\n",
              "      <td>19932.000000</td>\n",
              "      <td>19932.000000</td>\n",
              "      <td>19932.000000</td>\n",
              "      <td>19932.000000</td>\n",
              "      <td>19932.000000</td>\n",
              "      <td>19932.000000</td>\n",
              "      <td>19932.000000</td>\n",
              "    </tr>\n",
              "    <tr>\n",
              "      <th>mean</th>\n",
              "      <td>2021.0</td>\n",
              "      <td>6.63486</td>\n",
              "      <td>300.792545</td>\n",
              "      <td>50.696573</td>\n",
              "      <td>19.768108</td>\n",
              "      <td>2.219045</td>\n",
              "      <td>12.394351</td>\n",
              "      <td>0.235887</td>\n",
              "      <td>16.07160</td>\n",
              "      <td>5.170580</td>\n",
              "      <td>0.708258</td>\n",
              "      <td>3342.028447</td>\n",
              "      <td>1364.502960</td>\n",
              "      <td>229.781407</td>\n",
              "      <td>558.403321</td>\n",
              "      <td>11.338551</td>\n",
              "      <td>1178.001204</td>\n",
              "    </tr>\n",
              "    <tr>\n",
              "      <th>std</th>\n",
              "      <td>0.0</td>\n",
              "      <td>3.42493</td>\n",
              "      <td>837.504976</td>\n",
              "      <td>145.076311</td>\n",
              "      <td>52.783468</td>\n",
              "      <td>7.854232</td>\n",
              "      <td>42.663588</td>\n",
              "      <td>1.037067</td>\n",
              "      <td>54.31714</td>\n",
              "      <td>24.742801</td>\n",
              "      <td>3.355977</td>\n",
              "      <td>10515.311519</td>\n",
              "      <td>4296.182353</td>\n",
              "      <td>902.669264</td>\n",
              "      <td>2193.915997</td>\n",
              "      <td>60.179166</td>\n",
              "      <td>4108.819770</td>\n",
              "    </tr>\n",
              "    <tr>\n",
              "      <th>min</th>\n",
              "      <td>2021.0</td>\n",
              "      <td>1.00000</td>\n",
              "      <td>1.000000</td>\n",
              "      <td>0.000000</td>\n",
              "      <td>0.000000</td>\n",
              "      <td>0.000000</td>\n",
              "      <td>0.000000</td>\n",
              "      <td>0.000000</td>\n",
              "      <td>0.00000</td>\n",
              "      <td>0.000000</td>\n",
              "      <td>0.000000</td>\n",
              "      <td>0.000000</td>\n",
              "      <td>0.000000</td>\n",
              "      <td>0.000000</td>\n",
              "      <td>0.000000</td>\n",
              "      <td>0.000000</td>\n",
              "      <td>0.000000</td>\n",
              "    </tr>\n",
              "    <tr>\n",
              "      <th>25%</th>\n",
              "      <td>2021.0</td>\n",
              "      <td>4.00000</td>\n",
              "      <td>40.000000</td>\n",
              "      <td>5.000000</td>\n",
              "      <td>2.000000</td>\n",
              "      <td>0.000000</td>\n",
              "      <td>0.380000</td>\n",
              "      <td>0.000000</td>\n",
              "      <td>0.86000</td>\n",
              "      <td>0.000000</td>\n",
              "      <td>0.000000</td>\n",
              "      <td>254.000000</td>\n",
              "      <td>86.000000</td>\n",
              "      <td>0.000000</td>\n",
              "      <td>14.000000</td>\n",
              "      <td>0.000000</td>\n",
              "      <td>28.000000</td>\n",
              "    </tr>\n",
              "    <tr>\n",
              "      <th>50%</th>\n",
              "      <td>2021.0</td>\n",
              "      <td>7.00000</td>\n",
              "      <td>88.000000</td>\n",
              "      <td>13.000000</td>\n",
              "      <td>5.195000</td>\n",
              "      <td>0.260000</td>\n",
              "      <td>2.570000</td>\n",
              "      <td>0.000000</td>\n",
              "      <td>3.00000</td>\n",
              "      <td>1.000000</td>\n",
              "      <td>0.000000</td>\n",
              "      <td>768.000000</td>\n",
              "      <td>294.000000</td>\n",
              "      <td>14.000000</td>\n",
              "      <td>93.000000</td>\n",
              "      <td>0.000000</td>\n",
              "      <td>190.000000</td>\n",
              "    </tr>\n",
              "    <tr>\n",
              "      <th>75%</th>\n",
              "      <td>2021.0</td>\n",
              "      <td>10.00000</td>\n",
              "      <td>210.000000</td>\n",
              "      <td>35.000000</td>\n",
              "      <td>15.000000</td>\n",
              "      <td>1.770000</td>\n",
              "      <td>7.952500</td>\n",
              "      <td>0.000000</td>\n",
              "      <td>9.77000</td>\n",
              "      <td>3.000000</td>\n",
              "      <td>0.000000</td>\n",
              "      <td>2189.250000</td>\n",
              "      <td>968.000000</td>\n",
              "      <td>138.000000</td>\n",
              "      <td>310.000000</td>\n",
              "      <td>0.000000</td>\n",
              "      <td>707.250000</td>\n",
              "    </tr>\n",
              "    <tr>\n",
              "      <th>max</th>\n",
              "      <td>2021.0</td>\n",
              "      <td>12.00000</td>\n",
              "      <td>17547.000000</td>\n",
              "      <td>3402.000000</td>\n",
              "      <td>1147.000000</td>\n",
              "      <td>226.000000</td>\n",
              "      <td>908.110000</td>\n",
              "      <td>41.970000</td>\n",
              "      <td>1531.81000</td>\n",
              "      <td>1036.000000</td>\n",
              "      <td>154.000000</td>\n",
              "      <td>305694.000000</td>\n",
              "      <td>111645.000000</td>\n",
              "      <td>27876.000000</td>\n",
              "      <td>63629.000000</td>\n",
              "      <td>3760.000000</td>\n",
              "      <td>143192.000000</td>\n",
              "    </tr>\n",
              "  </tbody>\n",
              "</table>\n",
              "</div>\n",
              "      <button class=\"colab-df-convert\" onclick=\"convertToInteractive('df-3bcb2cc2-ea78-4870-ad50-8a013b356377')\"\n",
              "              title=\"Convert this dataframe to an interactive table.\"\n",
              "              style=\"display:none;\">\n",
              "        \n",
              "  <svg xmlns=\"http://www.w3.org/2000/svg\" height=\"24px\"viewBox=\"0 0 24 24\"\n",
              "       width=\"24px\">\n",
              "    <path d=\"M0 0h24v24H0V0z\" fill=\"none\"/>\n",
              "    <path d=\"M18.56 5.44l.94 2.06.94-2.06 2.06-.94-2.06-.94-.94-2.06-.94 2.06-2.06.94zm-11 1L8.5 8.5l.94-2.06 2.06-.94-2.06-.94L8.5 2.5l-.94 2.06-2.06.94zm10 10l.94 2.06.94-2.06 2.06-.94-2.06-.94-.94-2.06-.94 2.06-2.06.94z\"/><path d=\"M17.41 7.96l-1.37-1.37c-.4-.4-.92-.59-1.43-.59-.52 0-1.04.2-1.43.59L10.3 9.45l-7.72 7.72c-.78.78-.78 2.05 0 2.83L4 21.41c.39.39.9.59 1.41.59.51 0 1.02-.2 1.41-.59l7.78-7.78 2.81-2.81c.8-.78.8-2.07 0-2.86zM5.41 20L4 18.59l7.72-7.72 1.47 1.35L5.41 20z\"/>\n",
              "  </svg>\n",
              "      </button>\n",
              "      \n",
              "  <style>\n",
              "    .colab-df-container {\n",
              "      display:flex;\n",
              "      flex-wrap:wrap;\n",
              "      gap: 12px;\n",
              "    }\n",
              "\n",
              "    .colab-df-convert {\n",
              "      background-color: #E8F0FE;\n",
              "      border: none;\n",
              "      border-radius: 50%;\n",
              "      cursor: pointer;\n",
              "      display: none;\n",
              "      fill: #1967D2;\n",
              "      height: 32px;\n",
              "      padding: 0 0 0 0;\n",
              "      width: 32px;\n",
              "    }\n",
              "\n",
              "    .colab-df-convert:hover {\n",
              "      background-color: #E2EBFA;\n",
              "      box-shadow: 0px 1px 2px rgba(60, 64, 67, 0.3), 0px 1px 3px 1px rgba(60, 64, 67, 0.15);\n",
              "      fill: #174EA6;\n",
              "    }\n",
              "\n",
              "    [theme=dark] .colab-df-convert {\n",
              "      background-color: #3B4455;\n",
              "      fill: #D2E3FC;\n",
              "    }\n",
              "\n",
              "    [theme=dark] .colab-df-convert:hover {\n",
              "      background-color: #434B5C;\n",
              "      box-shadow: 0px 1px 3px 1px rgba(0, 0, 0, 0.15);\n",
              "      filter: drop-shadow(0px 1px 2px rgba(0, 0, 0, 0.3));\n",
              "      fill: #FFFFFF;\n",
              "    }\n",
              "  </style>\n",
              "\n",
              "      <script>\n",
              "        const buttonEl =\n",
              "          document.querySelector('#df-3bcb2cc2-ea78-4870-ad50-8a013b356377 button.colab-df-convert');\n",
              "        buttonEl.style.display =\n",
              "          google.colab.kernel.accessAllowed ? 'block' : 'none';\n",
              "\n",
              "        async function convertToInteractive(key) {\n",
              "          const element = document.querySelector('#df-3bcb2cc2-ea78-4870-ad50-8a013b356377');\n",
              "          const dataTable =\n",
              "            await google.colab.kernel.invokeFunction('convertToInteractive',\n",
              "                                                     [key], {});\n",
              "          if (!dataTable) return;\n",
              "\n",
              "          const docLinkHtml = 'Like what you see? Visit the ' +\n",
              "            '<a target=\"_blank\" href=https://colab.research.google.com/notebooks/data_table.ipynb>data table notebook</a>'\n",
              "            + ' to learn more about interactive tables.';\n",
              "          element.innerHTML = '';\n",
              "          dataTable['output_type'] = 'display_data';\n",
              "          await google.colab.output.renderOutput(dataTable, element);\n",
              "          const docLink = document.createElement('div');\n",
              "          docLink.innerHTML = docLinkHtml;\n",
              "          element.appendChild(docLink);\n",
              "        }\n",
              "      </script>\n",
              "    </div>\n",
              "  </div>\n",
              "  "
            ]
          },
          "metadata": {},
          "execution_count": 111
        }
      ],
      "source": [
        "df.describe()"
      ]
    },
    {
      "cell_type": "markdown",
      "metadata": {
        "id": "TGUxOy6itGWV"
      },
      "source": [
        "Above table shows mean, median, standard deviaiton, quartiles and maximum of each columns in the dataframe."
      ]
    },
    {
      "cell_type": "code",
      "execution_count": 112,
      "metadata": {
        "colab": {
          "base_uri": "https://localhost:8080/"
        },
        "id": "gY6sEydc6c2S",
        "outputId": "a26eacb8-027e-4704-83f3-0d98dcaabc57"
      },
      "outputs": [
        {
          "output_type": "execute_result",
          "data": {
            "text/plain": [
              "Year                       int64\n",
              "Month                      int64\n",
              "Carrier                   object\n",
              "Carrier Name              object\n",
              "Airport                   object\n",
              "Airport Name              object\n",
              "No Arrived Flights       float64\n",
              "No Delayed Arrivals      float64\n",
              "No Carrier Del           float64\n",
              "No Weather Del           float64\n",
              "No Nas Del               float64\n",
              "No Security Del          float64\n",
              "No Late Aircraft Del     float64\n",
              "No Arrivals Cancelled    float64\n",
              "No Arrivals Diverted     float64\n",
              "Arrival Delay            float64\n",
              "Carrier Delay            float64\n",
              "Weather Delay            float64\n",
              "Nas Delay                float64\n",
              "Security delay           float64\n",
              "Late Aircraft Delay      float64\n",
              "dtype: object"
            ]
          },
          "metadata": {},
          "execution_count": 112
        }
      ],
      "source": [
        "df.dtypes"
      ]
    },
    {
      "cell_type": "code",
      "execution_count": 113,
      "metadata": {
        "colab": {
          "base_uri": "https://localhost:8080/"
        },
        "id": "pJS-BUmk6cuh",
        "outputId": "1f490a7d-7319-4439-8113-c275684165ca"
      },
      "outputs": [
        {
          "output_type": "execute_result",
          "data": {
            "text/plain": [
              "(19954, 21)"
            ]
          },
          "metadata": {},
          "execution_count": 113
        }
      ],
      "source": [
        "df = df.drop_duplicates()\n",
        "df.shape # no dublicates found"
      ]
    },
    {
      "cell_type": "markdown",
      "metadata": {
        "id": "un3hd5hL9_kP"
      },
      "source": [
        "Check and drop missing values"
      ]
    },
    {
      "cell_type": "code",
      "execution_count": 114,
      "metadata": {
        "colab": {
          "base_uri": "https://localhost:8080/"
        },
        "id": "eXG_CrG76xUQ",
        "outputId": "b7f7aa44-8b7c-4cb4-9f41-bccd2885be98"
      },
      "outputs": [
        {
          "output_type": "execute_result",
          "data": {
            "text/plain": [
              "True"
            ]
          },
          "metadata": {},
          "execution_count": 114
        }
      ],
      "source": [
        "# check missing values\n",
        "df.isnull().values.any()"
      ]
    },
    {
      "cell_type": "code",
      "execution_count": 115,
      "metadata": {
        "colab": {
          "base_uri": "https://localhost:8080/"
        },
        "id": "bycEiAME609V",
        "outputId": "7f4fb4b6-dd26-4789-8403-54fec6baab0c"
      },
      "outputs": [
        {
          "output_type": "execute_result",
          "data": {
            "text/plain": [
              "Year                      0\n",
              "Month                     0\n",
              "Carrier                   0\n",
              "Carrier Name              0\n",
              "Airport                   0\n",
              "Airport Name              0\n",
              "No Arrived Flights       22\n",
              "No Delayed Arrivals      25\n",
              "No Carrier Del           22\n",
              "No Weather Del           22\n",
              "No Nas Del               22\n",
              "No Security Del          22\n",
              "No Late Aircraft Del     22\n",
              "No Arrivals Cancelled    22\n",
              "No Arrivals Diverted     22\n",
              "Arrival Delay            22\n",
              "Carrier Delay            22\n",
              "Weather Delay            22\n",
              "Nas Delay                22\n",
              "Security delay           22\n",
              "Late Aircraft Delay      22\n",
              "dtype: int64"
            ]
          },
          "metadata": {},
          "execution_count": 115
        }
      ],
      "source": [
        "df.isna().sum()"
      ]
    },
    {
      "cell_type": "markdown",
      "metadata": {
        "id": "Qqy2pKBR-Iq-"
      },
      "source": [
        "We have mising data in 15 columns. The number of missing data is similar so they are in the same rows. Lets drop them"
      ]
    },
    {
      "cell_type": "code",
      "execution_count": 116,
      "metadata": {
        "colab": {
          "base_uri": "https://localhost:8080/"
        },
        "id": "S1Ln9Sh7-8ZN",
        "outputId": "2687b2cb-c231-40a8-ddc2-ee072ab5167b"
      },
      "outputs": [
        {
          "output_type": "execute_result",
          "data": {
            "text/plain": [
              "Year                     0\n",
              "Month                    0\n",
              "Carrier                  0\n",
              "Carrier Name             0\n",
              "Airport                  0\n",
              "Airport Name             0\n",
              "No Arrived Flights       0\n",
              "No Delayed Arrivals      0\n",
              "No Carrier Del           0\n",
              "No Weather Del           0\n",
              "No Nas Del               0\n",
              "No Security Del          0\n",
              "No Late Aircraft Del     0\n",
              "No Arrivals Cancelled    0\n",
              "No Arrivals Diverted     0\n",
              "Arrival Delay            0\n",
              "Carrier Delay            0\n",
              "Weather Delay            0\n",
              "Nas Delay                0\n",
              "Security delay           0\n",
              "Late Aircraft Delay      0\n",
              "dtype: int64"
            ]
          },
          "metadata": {},
          "execution_count": 116
        }
      ],
      "source": [
        "df.dropna(axis=0,inplace=True)\n",
        "df.isna().sum()"
      ]
    },
    {
      "cell_type": "code",
      "execution_count": 117,
      "metadata": {
        "colab": {
          "base_uri": "https://localhost:8080/",
          "height": 696
        },
        "id": "8xOUIvQC-sff",
        "outputId": "d826490a-6a22-4c61-87cd-09e45ce7d58b"
      },
      "outputs": [
        {
          "output_type": "execute_result",
          "data": {
            "text/plain": [
              "       Year  Month Carrier       Carrier Name Airport  \\\n",
              "0      2021     12      9E  Endeavor Air Inc.     ABE   \n",
              "1      2021     12      9E  Endeavor Air Inc.     ABY   \n",
              "2      2021     12      9E  Endeavor Air Inc.     AEX   \n",
              "3      2021     12      9E  Endeavor Air Inc.     AGS   \n",
              "4      2021     12      9E  Endeavor Air Inc.     ALB   \n",
              "...     ...    ...     ...                ...     ...   \n",
              "19949  2021      1      YX   Republic Airline     TLH   \n",
              "19950  2021      1      YX   Republic Airline     TPA   \n",
              "19951  2021      1      YX   Republic Airline     TUS   \n",
              "19952  2021      1      YX   Republic Airline     TVC   \n",
              "19953  2021      1      YX   Republic Airline     VPS   \n",
              "\n",
              "                                            Airport Name  No Arrived Flights  \\\n",
              "0      Allentown/Bethlehem/Easton, PA: Lehigh Valley ...               127.0   \n",
              "1                 Albany, GA: Southwest Georgia Regional                73.0   \n",
              "2               Alexandria, LA: Alexandria International                62.0   \n",
              "3            Augusta, GA: Augusta Regional at Bush Field               166.0   \n",
              "4                       Albany, NY: Albany International                52.0   \n",
              "...                                                  ...                 ...   \n",
              "19949         Tallahassee, FL: Tallahassee International               131.0   \n",
              "19950                     Tampa, FL: Tampa International               253.0   \n",
              "19951                   Tucson, AZ: Tucson International                31.0   \n",
              "19952                  Traverse City, MI: Cherry Capital                 2.0   \n",
              "19953  Valparaiso, FL: Eglin AFB Destin Fort Walton B...                27.0   \n",
              "\n",
              "       No Delayed Arrivals  No Carrier Del  No Weather Del  ...  \\\n",
              "0                      9.0             3.0             0.0  ...   \n",
              "1                     11.0             5.0             0.0  ...   \n",
              "2                      8.0             3.0             0.0  ...   \n",
              "3                     18.0             9.0             3.0  ...   \n",
              "4                      6.0             3.0             2.0  ...   \n",
              "...                    ...             ...             ...  ...   \n",
              "19949                  8.0             4.0             0.0  ...   \n",
              "19950                 19.0             6.0             0.0  ...   \n",
              "19951                  4.0             0.0             0.0  ...   \n",
              "19952                  0.0             0.0             0.0  ...   \n",
              "19953                  0.0             0.0             0.0  ...   \n",
              "\n",
              "       No Security Del  No Late Aircraft Del  No Arrivals Cancelled  \\\n",
              "0                  0.0                   3.0                    0.0   \n",
              "1                  0.0                   2.0                    0.0   \n",
              "2                  0.0                   1.0                    0.0   \n",
              "3                  0.0                   3.0                    0.0   \n",
              "4                  0.0                   1.0                    0.0   \n",
              "...                ...                   ...                    ...   \n",
              "19949              0.0                   1.0                    1.0   \n",
              "19950              0.0                   5.0                    2.0   \n",
              "19951              0.0                   0.0                    1.0   \n",
              "19952              0.0                   0.0                    0.0   \n",
              "19953              0.0                   0.0                    0.0   \n",
              "\n",
              "       No Arrivals Diverted  Arrival Delay  Carrier Delay  Weather Delay  \\\n",
              "0                       0.0          264.0          119.0            0.0   \n",
              "1                       0.0          342.0          125.0            0.0   \n",
              "2                       0.0          439.0          156.0            0.0   \n",
              "3                       1.0         1266.0          291.0          693.0   \n",
              "4                       0.0          497.0          278.0          180.0   \n",
              "...                     ...            ...            ...            ...   \n",
              "19949                   2.0          582.0          328.0            0.0   \n",
              "19950                   0.0         1039.0          418.0            6.0   \n",
              "19951                   0.0          191.0            0.0            0.0   \n",
              "19952                   0.0            0.0            0.0            0.0   \n",
              "19953                   0.0            0.0            0.0            0.0   \n",
              "\n",
              "       Nas Delay  Security delay  Late Aircraft Delay  \n",
              "0           68.0             0.0                 77.0  \n",
              "1          142.0             0.0                 75.0  \n",
              "2          103.0             0.0                180.0  \n",
              "3          167.0             0.0                115.0  \n",
              "4           21.0             0.0                 18.0  \n",
              "...          ...             ...                  ...  \n",
              "19949      178.0             0.0                 76.0  \n",
              "19950      206.0             0.0                409.0  \n",
              "19951      191.0             0.0                  0.0  \n",
              "19952        0.0             0.0                  0.0  \n",
              "19953        0.0             0.0                  0.0  \n",
              "\n",
              "[19929 rows x 21 columns]"
            ],
            "text/html": [
              "\n",
              "  <div id=\"df-dfeb11fe-0641-4dc7-99cc-686234dfefb9\">\n",
              "    <div class=\"colab-df-container\">\n",
              "      <div>\n",
              "<style scoped>\n",
              "    .dataframe tbody tr th:only-of-type {\n",
              "        vertical-align: middle;\n",
              "    }\n",
              "\n",
              "    .dataframe tbody tr th {\n",
              "        vertical-align: top;\n",
              "    }\n",
              "\n",
              "    .dataframe thead th {\n",
              "        text-align: right;\n",
              "    }\n",
              "</style>\n",
              "<table border=\"1\" class=\"dataframe\">\n",
              "  <thead>\n",
              "    <tr style=\"text-align: right;\">\n",
              "      <th></th>\n",
              "      <th>Year</th>\n",
              "      <th>Month</th>\n",
              "      <th>Carrier</th>\n",
              "      <th>Carrier Name</th>\n",
              "      <th>Airport</th>\n",
              "      <th>Airport Name</th>\n",
              "      <th>No Arrived Flights</th>\n",
              "      <th>No Delayed Arrivals</th>\n",
              "      <th>No Carrier Del</th>\n",
              "      <th>No Weather Del</th>\n",
              "      <th>...</th>\n",
              "      <th>No Security Del</th>\n",
              "      <th>No Late Aircraft Del</th>\n",
              "      <th>No Arrivals Cancelled</th>\n",
              "      <th>No Arrivals Diverted</th>\n",
              "      <th>Arrival Delay</th>\n",
              "      <th>Carrier Delay</th>\n",
              "      <th>Weather Delay</th>\n",
              "      <th>Nas Delay</th>\n",
              "      <th>Security delay</th>\n",
              "      <th>Late Aircraft Delay</th>\n",
              "    </tr>\n",
              "  </thead>\n",
              "  <tbody>\n",
              "    <tr>\n",
              "      <th>0</th>\n",
              "      <td>2021</td>\n",
              "      <td>12</td>\n",
              "      <td>9E</td>\n",
              "      <td>Endeavor Air Inc.</td>\n",
              "      <td>ABE</td>\n",
              "      <td>Allentown/Bethlehem/Easton, PA: Lehigh Valley ...</td>\n",
              "      <td>127.0</td>\n",
              "      <td>9.0</td>\n",
              "      <td>3.0</td>\n",
              "      <td>0.0</td>\n",
              "      <td>...</td>\n",
              "      <td>0.0</td>\n",
              "      <td>3.0</td>\n",
              "      <td>0.0</td>\n",
              "      <td>0.0</td>\n",
              "      <td>264.0</td>\n",
              "      <td>119.0</td>\n",
              "      <td>0.0</td>\n",
              "      <td>68.0</td>\n",
              "      <td>0.0</td>\n",
              "      <td>77.0</td>\n",
              "    </tr>\n",
              "    <tr>\n",
              "      <th>1</th>\n",
              "      <td>2021</td>\n",
              "      <td>12</td>\n",
              "      <td>9E</td>\n",
              "      <td>Endeavor Air Inc.</td>\n",
              "      <td>ABY</td>\n",
              "      <td>Albany, GA: Southwest Georgia Regional</td>\n",
              "      <td>73.0</td>\n",
              "      <td>11.0</td>\n",
              "      <td>5.0</td>\n",
              "      <td>0.0</td>\n",
              "      <td>...</td>\n",
              "      <td>0.0</td>\n",
              "      <td>2.0</td>\n",
              "      <td>0.0</td>\n",
              "      <td>0.0</td>\n",
              "      <td>342.0</td>\n",
              "      <td>125.0</td>\n",
              "      <td>0.0</td>\n",
              "      <td>142.0</td>\n",
              "      <td>0.0</td>\n",
              "      <td>75.0</td>\n",
              "    </tr>\n",
              "    <tr>\n",
              "      <th>2</th>\n",
              "      <td>2021</td>\n",
              "      <td>12</td>\n",
              "      <td>9E</td>\n",
              "      <td>Endeavor Air Inc.</td>\n",
              "      <td>AEX</td>\n",
              "      <td>Alexandria, LA: Alexandria International</td>\n",
              "      <td>62.0</td>\n",
              "      <td>8.0</td>\n",
              "      <td>3.0</td>\n",
              "      <td>0.0</td>\n",
              "      <td>...</td>\n",
              "      <td>0.0</td>\n",
              "      <td>1.0</td>\n",
              "      <td>0.0</td>\n",
              "      <td>0.0</td>\n",
              "      <td>439.0</td>\n",
              "      <td>156.0</td>\n",
              "      <td>0.0</td>\n",
              "      <td>103.0</td>\n",
              "      <td>0.0</td>\n",
              "      <td>180.0</td>\n",
              "    </tr>\n",
              "    <tr>\n",
              "      <th>3</th>\n",
              "      <td>2021</td>\n",
              "      <td>12</td>\n",
              "      <td>9E</td>\n",
              "      <td>Endeavor Air Inc.</td>\n",
              "      <td>AGS</td>\n",
              "      <td>Augusta, GA: Augusta Regional at Bush Field</td>\n",
              "      <td>166.0</td>\n",
              "      <td>18.0</td>\n",
              "      <td>9.0</td>\n",
              "      <td>3.0</td>\n",
              "      <td>...</td>\n",
              "      <td>0.0</td>\n",
              "      <td>3.0</td>\n",
              "      <td>0.0</td>\n",
              "      <td>1.0</td>\n",
              "      <td>1266.0</td>\n",
              "      <td>291.0</td>\n",
              "      <td>693.0</td>\n",
              "      <td>167.0</td>\n",
              "      <td>0.0</td>\n",
              "      <td>115.0</td>\n",
              "    </tr>\n",
              "    <tr>\n",
              "      <th>4</th>\n",
              "      <td>2021</td>\n",
              "      <td>12</td>\n",
              "      <td>9E</td>\n",
              "      <td>Endeavor Air Inc.</td>\n",
              "      <td>ALB</td>\n",
              "      <td>Albany, NY: Albany International</td>\n",
              "      <td>52.0</td>\n",
              "      <td>6.0</td>\n",
              "      <td>3.0</td>\n",
              "      <td>2.0</td>\n",
              "      <td>...</td>\n",
              "      <td>0.0</td>\n",
              "      <td>1.0</td>\n",
              "      <td>0.0</td>\n",
              "      <td>0.0</td>\n",
              "      <td>497.0</td>\n",
              "      <td>278.0</td>\n",
              "      <td>180.0</td>\n",
              "      <td>21.0</td>\n",
              "      <td>0.0</td>\n",
              "      <td>18.0</td>\n",
              "    </tr>\n",
              "    <tr>\n",
              "      <th>...</th>\n",
              "      <td>...</td>\n",
              "      <td>...</td>\n",
              "      <td>...</td>\n",
              "      <td>...</td>\n",
              "      <td>...</td>\n",
              "      <td>...</td>\n",
              "      <td>...</td>\n",
              "      <td>...</td>\n",
              "      <td>...</td>\n",
              "      <td>...</td>\n",
              "      <td>...</td>\n",
              "      <td>...</td>\n",
              "      <td>...</td>\n",
              "      <td>...</td>\n",
              "      <td>...</td>\n",
              "      <td>...</td>\n",
              "      <td>...</td>\n",
              "      <td>...</td>\n",
              "      <td>...</td>\n",
              "      <td>...</td>\n",
              "      <td>...</td>\n",
              "    </tr>\n",
              "    <tr>\n",
              "      <th>19949</th>\n",
              "      <td>2021</td>\n",
              "      <td>1</td>\n",
              "      <td>YX</td>\n",
              "      <td>Republic Airline</td>\n",
              "      <td>TLH</td>\n",
              "      <td>Tallahassee, FL: Tallahassee International</td>\n",
              "      <td>131.0</td>\n",
              "      <td>8.0</td>\n",
              "      <td>4.0</td>\n",
              "      <td>0.0</td>\n",
              "      <td>...</td>\n",
              "      <td>0.0</td>\n",
              "      <td>1.0</td>\n",
              "      <td>1.0</td>\n",
              "      <td>2.0</td>\n",
              "      <td>582.0</td>\n",
              "      <td>328.0</td>\n",
              "      <td>0.0</td>\n",
              "      <td>178.0</td>\n",
              "      <td>0.0</td>\n",
              "      <td>76.0</td>\n",
              "    </tr>\n",
              "    <tr>\n",
              "      <th>19950</th>\n",
              "      <td>2021</td>\n",
              "      <td>1</td>\n",
              "      <td>YX</td>\n",
              "      <td>Republic Airline</td>\n",
              "      <td>TPA</td>\n",
              "      <td>Tampa, FL: Tampa International</td>\n",
              "      <td>253.0</td>\n",
              "      <td>19.0</td>\n",
              "      <td>6.0</td>\n",
              "      <td>0.0</td>\n",
              "      <td>...</td>\n",
              "      <td>0.0</td>\n",
              "      <td>5.0</td>\n",
              "      <td>2.0</td>\n",
              "      <td>0.0</td>\n",
              "      <td>1039.0</td>\n",
              "      <td>418.0</td>\n",
              "      <td>6.0</td>\n",
              "      <td>206.0</td>\n",
              "      <td>0.0</td>\n",
              "      <td>409.0</td>\n",
              "    </tr>\n",
              "    <tr>\n",
              "      <th>19951</th>\n",
              "      <td>2021</td>\n",
              "      <td>1</td>\n",
              "      <td>YX</td>\n",
              "      <td>Republic Airline</td>\n",
              "      <td>TUS</td>\n",
              "      <td>Tucson, AZ: Tucson International</td>\n",
              "      <td>31.0</td>\n",
              "      <td>4.0</td>\n",
              "      <td>0.0</td>\n",
              "      <td>0.0</td>\n",
              "      <td>...</td>\n",
              "      <td>0.0</td>\n",
              "      <td>0.0</td>\n",
              "      <td>1.0</td>\n",
              "      <td>0.0</td>\n",
              "      <td>191.0</td>\n",
              "      <td>0.0</td>\n",
              "      <td>0.0</td>\n",
              "      <td>191.0</td>\n",
              "      <td>0.0</td>\n",
              "      <td>0.0</td>\n",
              "    </tr>\n",
              "    <tr>\n",
              "      <th>19952</th>\n",
              "      <td>2021</td>\n",
              "      <td>1</td>\n",
              "      <td>YX</td>\n",
              "      <td>Republic Airline</td>\n",
              "      <td>TVC</td>\n",
              "      <td>Traverse City, MI: Cherry Capital</td>\n",
              "      <td>2.0</td>\n",
              "      <td>0.0</td>\n",
              "      <td>0.0</td>\n",
              "      <td>0.0</td>\n",
              "      <td>...</td>\n",
              "      <td>0.0</td>\n",
              "      <td>0.0</td>\n",
              "      <td>0.0</td>\n",
              "      <td>0.0</td>\n",
              "      <td>0.0</td>\n",
              "      <td>0.0</td>\n",
              "      <td>0.0</td>\n",
              "      <td>0.0</td>\n",
              "      <td>0.0</td>\n",
              "      <td>0.0</td>\n",
              "    </tr>\n",
              "    <tr>\n",
              "      <th>19953</th>\n",
              "      <td>2021</td>\n",
              "      <td>1</td>\n",
              "      <td>YX</td>\n",
              "      <td>Republic Airline</td>\n",
              "      <td>VPS</td>\n",
              "      <td>Valparaiso, FL: Eglin AFB Destin Fort Walton B...</td>\n",
              "      <td>27.0</td>\n",
              "      <td>0.0</td>\n",
              "      <td>0.0</td>\n",
              "      <td>0.0</td>\n",
              "      <td>...</td>\n",
              "      <td>0.0</td>\n",
              "      <td>0.0</td>\n",
              "      <td>0.0</td>\n",
              "      <td>0.0</td>\n",
              "      <td>0.0</td>\n",
              "      <td>0.0</td>\n",
              "      <td>0.0</td>\n",
              "      <td>0.0</td>\n",
              "      <td>0.0</td>\n",
              "      <td>0.0</td>\n",
              "    </tr>\n",
              "  </tbody>\n",
              "</table>\n",
              "<p>19929 rows × 21 columns</p>\n",
              "</div>\n",
              "      <button class=\"colab-df-convert\" onclick=\"convertToInteractive('df-dfeb11fe-0641-4dc7-99cc-686234dfefb9')\"\n",
              "              title=\"Convert this dataframe to an interactive table.\"\n",
              "              style=\"display:none;\">\n",
              "        \n",
              "  <svg xmlns=\"http://www.w3.org/2000/svg\" height=\"24px\"viewBox=\"0 0 24 24\"\n",
              "       width=\"24px\">\n",
              "    <path d=\"M0 0h24v24H0V0z\" fill=\"none\"/>\n",
              "    <path d=\"M18.56 5.44l.94 2.06.94-2.06 2.06-.94-2.06-.94-.94-2.06-.94 2.06-2.06.94zm-11 1L8.5 8.5l.94-2.06 2.06-.94-2.06-.94L8.5 2.5l-.94 2.06-2.06.94zm10 10l.94 2.06.94-2.06 2.06-.94-2.06-.94-.94-2.06-.94 2.06-2.06.94z\"/><path d=\"M17.41 7.96l-1.37-1.37c-.4-.4-.92-.59-1.43-.59-.52 0-1.04.2-1.43.59L10.3 9.45l-7.72 7.72c-.78.78-.78 2.05 0 2.83L4 21.41c.39.39.9.59 1.41.59.51 0 1.02-.2 1.41-.59l7.78-7.78 2.81-2.81c.8-.78.8-2.07 0-2.86zM5.41 20L4 18.59l7.72-7.72 1.47 1.35L5.41 20z\"/>\n",
              "  </svg>\n",
              "      </button>\n",
              "      \n",
              "  <style>\n",
              "    .colab-df-container {\n",
              "      display:flex;\n",
              "      flex-wrap:wrap;\n",
              "      gap: 12px;\n",
              "    }\n",
              "\n",
              "    .colab-df-convert {\n",
              "      background-color: #E8F0FE;\n",
              "      border: none;\n",
              "      border-radius: 50%;\n",
              "      cursor: pointer;\n",
              "      display: none;\n",
              "      fill: #1967D2;\n",
              "      height: 32px;\n",
              "      padding: 0 0 0 0;\n",
              "      width: 32px;\n",
              "    }\n",
              "\n",
              "    .colab-df-convert:hover {\n",
              "      background-color: #E2EBFA;\n",
              "      box-shadow: 0px 1px 2px rgba(60, 64, 67, 0.3), 0px 1px 3px 1px rgba(60, 64, 67, 0.15);\n",
              "      fill: #174EA6;\n",
              "    }\n",
              "\n",
              "    [theme=dark] .colab-df-convert {\n",
              "      background-color: #3B4455;\n",
              "      fill: #D2E3FC;\n",
              "    }\n",
              "\n",
              "    [theme=dark] .colab-df-convert:hover {\n",
              "      background-color: #434B5C;\n",
              "      box-shadow: 0px 1px 3px 1px rgba(0, 0, 0, 0.15);\n",
              "      filter: drop-shadow(0px 1px 2px rgba(0, 0, 0, 0.3));\n",
              "      fill: #FFFFFF;\n",
              "    }\n",
              "  </style>\n",
              "\n",
              "      <script>\n",
              "        const buttonEl =\n",
              "          document.querySelector('#df-dfeb11fe-0641-4dc7-99cc-686234dfefb9 button.colab-df-convert');\n",
              "        buttonEl.style.display =\n",
              "          google.colab.kernel.accessAllowed ? 'block' : 'none';\n",
              "\n",
              "        async function convertToInteractive(key) {\n",
              "          const element = document.querySelector('#df-dfeb11fe-0641-4dc7-99cc-686234dfefb9');\n",
              "          const dataTable =\n",
              "            await google.colab.kernel.invokeFunction('convertToInteractive',\n",
              "                                                     [key], {});\n",
              "          if (!dataTable) return;\n",
              "\n",
              "          const docLinkHtml = 'Like what you see? Visit the ' +\n",
              "            '<a target=\"_blank\" href=https://colab.research.google.com/notebooks/data_table.ipynb>data table notebook</a>'\n",
              "            + ' to learn more about interactive tables.';\n",
              "          element.innerHTML = '';\n",
              "          dataTable['output_type'] = 'display_data';\n",
              "          await google.colab.output.renderOutput(dataTable, element);\n",
              "          const docLink = document.createElement('div');\n",
              "          docLink.innerHTML = docLinkHtml;\n",
              "          element.appendChild(docLink);\n",
              "        }\n",
              "      </script>\n",
              "    </div>\n",
              "  </div>\n",
              "  "
            ]
          },
          "metadata": {},
          "execution_count": 117
        }
      ],
      "source": [
        "# round the numbers\n",
        "df.round()"
      ]
    },
    {
      "cell_type": "markdown",
      "metadata": {
        "id": "1ntM5leWn5R5"
      },
      "source": [
        "# **3.Analysis**"
      ]
    },
    {
      "cell_type": "code",
      "execution_count": 118,
      "metadata": {
        "colab": {
          "base_uri": "https://localhost:8080/"
        },
        "id": "lYPpkRk6Lc8M",
        "outputId": "38bfa0c0-3810-442d-cbd5-71e8940f5f69"
      },
      "outputs": [
        {
          "output_type": "execute_result",
          "data": {
            "text/plain": [
              "5995392.0"
            ]
          },
          "metadata": {},
          "execution_count": 118
        }
      ],
      "source": [
        "df['No Arrived Flights'].sum() # Total of arrived flights"
      ]
    },
    {
      "cell_type": "code",
      "execution_count": 119,
      "metadata": {
        "colab": {
          "base_uri": "https://localhost:8080/"
        },
        "id": "Pl48rpLxMFHm",
        "outputId": "00117cf6-1d0c-4df0-e4b6-80a0b820a1b1"
      },
      "outputs": [
        {
          "output_type": "execute_result",
          "data": {
            "text/plain": [
              "1010332.0"
            ]
          },
          "metadata": {},
          "execution_count": 119
        }
      ],
      "source": [
        "df['No Delayed Arrivals'].sum() # Total of delayed flights"
      ]
    },
    {
      "cell_type": "markdown",
      "metadata": {
        "id": "YMtIwTQdtq1N"
      },
      "source": [
        "### Which Airline has most number of delays?\n"
      ]
    },
    {
      "cell_type": "code",
      "execution_count": 120,
      "metadata": {
        "id": "IeZkAhmQzN9-"
      },
      "outputs": [],
      "source": [
        "Group = df.groupby('Carrier Name')['No Delayed Arrivals'].sum().sort_values()\n",
        "x = Group.index.tolist()\n",
        "y = Group.values.tolist()"
      ]
    },
    {
      "cell_type": "code",
      "execution_count": 121,
      "metadata": {
        "colab": {
          "base_uri": "https://localhost:8080/",
          "height": 728
        },
        "id": "Y1lojd73t4MV",
        "outputId": "25786be2-75e5-4998-9684-12f13ec4903a"
      },
      "outputs": [
        {
          "output_type": "display_data",
          "data": {
            "text/plain": [
              "<Figure size 1080x720 with 1 Axes>"
            ],
            "image/png": "[encoded data removed]"
          },
          "metadata": {
            "needs_background": "light"
          }
        }
      ],
      "source": [
        "colors = cm.inferno_r(np.linspace(.1, .85, len(x)))\n",
        "plt.figure(figsize = [15,10])\n",
        "plt.bar(x,y, color = colors)\n",
        "plt.xticks(rotation = 90)\n",
        "plt.title(\"Total Delays of Each Airline\", fontsize = 16)\n",
        "plt.xlabel(\"Airlines\", fontsize = 13)\n",
        "plt.ylabel(\"Total Number of Delays\", fontsize = 13)\n",
        "plt.show()"
      ]
    },
    {
      "cell_type": "markdown",
      "metadata": {
        "id": "pAUTP4kIuWnQ"
      },
      "source": [
        "Above figure depicts that the number of delays at \"Southwest Airlines Co\" is the highest among all available airlines in the dataset. More than 200000 flights have been delayed for more than 15 minutes. Furthermore, the figure also illustrates that the second highest number of flight delays are at \"American Airlines Inc\"."
      ]
    },
    {
      "cell_type": "markdown",
      "metadata": {
        "id": "UibSAgoswrDy"
      },
      "source": [
        "### Carrier With Lowest Number of Flight Delays"
      ]
    },
    {
      "cell_type": "code",
      "execution_count": 122,
      "metadata": {
        "colab": {
          "base_uri": "https://localhost:8080/",
          "height": 143
        },
        "id": "KwaDGdsPwtKZ",
        "outputId": "d5e4c473-87d0-4a4a-bdae-88e0a0515983"
      },
      "outputs": [
        {
          "output_type": "execute_result",
          "data": {
            "text/plain": [
              "             Carrier Name  No Delays\n",
              "0  Hawaiian Airlines Inc.     5661.0\n",
              "1             Horizon Air    14185.0\n",
              "2       Endeavor Air Inc.    22653.0"
            ],
            "text/html": [
              "\n",
              "  <div id=\"df-50748ba0-b6cc-4f2b-9db9-d332e4e99069\">\n",
              "    <div class=\"colab-df-container\">\n",
              "      <div>\n",
              "<style scoped>\n",
              "    .dataframe tbody tr th:only-of-type {\n",
              "        vertical-align: middle;\n",
              "    }\n",
              "\n",
              "    .dataframe tbody tr th {\n",
              "        vertical-align: top;\n",
              "    }\n",
              "\n",
              "    .dataframe thead th {\n",
              "        text-align: right;\n",
              "    }\n",
              "</style>\n",
              "<table border=\"1\" class=\"dataframe\">\n",
              "  <thead>\n",
              "    <tr style=\"text-align: right;\">\n",
              "      <th></th>\n",
              "      <th>Carrier Name</th>\n",
              "      <th>No Delays</th>\n",
              "    </tr>\n",
              "  </thead>\n",
              "  <tbody>\n",
              "    <tr>\n",
              "      <th>0</th>\n",
              "      <td>Hawaiian Airlines Inc.</td>\n",
              "      <td>5661.0</td>\n",
              "    </tr>\n",
              "    <tr>\n",
              "      <th>1</th>\n",
              "      <td>Horizon Air</td>\n",
              "      <td>14185.0</td>\n",
              "    </tr>\n",
              "    <tr>\n",
              "      <th>2</th>\n",
              "      <td>Endeavor Air Inc.</td>\n",
              "      <td>22653.0</td>\n",
              "    </tr>\n",
              "  </tbody>\n",
              "</table>\n",
              "</div>\n",
              "      <button class=\"colab-df-convert\" onclick=\"convertToInteractive('df-50748ba0-b6cc-4f2b-9db9-d332e4e99069')\"\n",
              "              title=\"Convert this dataframe to an interactive table.\"\n",
              "              style=\"display:none;\">\n",
              "        \n",
              "  <svg xmlns=\"http://www.w3.org/2000/svg\" height=\"24px\"viewBox=\"0 0 24 24\"\n",
              "       width=\"24px\">\n",
              "    <path d=\"M0 0h24v24H0V0z\" fill=\"none\"/>\n",
              "    <path d=\"M18.56 5.44l.94 2.06.94-2.06 2.06-.94-2.06-.94-.94-2.06-.94 2.06-2.06.94zm-11 1L8.5 8.5l.94-2.06 2.06-.94-2.06-.94L8.5 2.5l-.94 2.06-2.06.94zm10 10l.94 2.06.94-2.06 2.06-.94-2.06-.94-.94-2.06-.94 2.06-2.06.94z\"/><path d=\"M17.41 7.96l-1.37-1.37c-.4-.4-.92-.59-1.43-.59-.52 0-1.04.2-1.43.59L10.3 9.45l-7.72 7.72c-.78.78-.78 2.05 0 2.83L4 21.41c.39.39.9.59 1.41.59.51 0 1.02-.2 1.41-.59l7.78-7.78 2.81-2.81c.8-.78.8-2.07 0-2.86zM5.41 20L4 18.59l7.72-7.72 1.47 1.35L5.41 20z\"/>\n",
              "  </svg>\n",
              "      </button>\n",
              "      \n",
              "  <style>\n",
              "    .colab-df-container {\n",
              "      display:flex;\n",
              "      flex-wrap:wrap;\n",
              "      gap: 12px;\n",
              "    }\n",
              "\n",
              "    .colab-df-convert {\n",
              "      background-color: #E8F0FE;\n",
              "      border: none;\n",
              "      border-radius: 50%;\n",
              "      cursor: pointer;\n",
              "      display: none;\n",
              "      fill: #1967D2;\n",
              "      height: 32px;\n",
              "      padding: 0 0 0 0;\n",
              "      width: 32px;\n",
              "    }\n",
              "\n",
              "    .colab-df-convert:hover {\n",
              "      background-color: #E2EBFA;\n",
              "      box-shadow: 0px 1px 2px rgba(60, 64, 67, 0.3), 0px 1px 3px 1px rgba(60, 64, 67, 0.15);\n",
              "      fill: #174EA6;\n",
              "    }\n",
              "\n",
              "    [theme=dark] .colab-df-convert {\n",
              "      background-color: #3B4455;\n",
              "      fill: #D2E3FC;\n",
              "    }\n",
              "\n",
              "    [theme=dark] .colab-df-convert:hover {\n",
              "      background-color: #434B5C;\n",
              "      box-shadow: 0px 1px 3px 1px rgba(0, 0, 0, 0.15);\n",
              "      filter: drop-shadow(0px 1px 2px rgba(0, 0, 0, 0.3));\n",
              "      fill: #FFFFFF;\n",
              "    }\n",
              "  </style>\n",
              "\n",
              "      <script>\n",
              "        const buttonEl =\n",
              "          document.querySelector('#df-50748ba0-b6cc-4f2b-9db9-d332e4e99069 button.colab-df-convert');\n",
              "        buttonEl.style.display =\n",
              "          google.colab.kernel.accessAllowed ? 'block' : 'none';\n",
              "\n",
              "        async function convertToInteractive(key) {\n",
              "          const element = document.querySelector('#df-50748ba0-b6cc-4f2b-9db9-d332e4e99069');\n",
              "          const dataTable =\n",
              "            await google.colab.kernel.invokeFunction('convertToInteractive',\n",
              "                                                     [key], {});\n",
              "          if (!dataTable) return;\n",
              "\n",
              "          const docLinkHtml = 'Like what you see? Visit the ' +\n",
              "            '<a target=\"_blank\" href=https://colab.research.google.com/notebooks/data_table.ipynb>data table notebook</a>'\n",
              "            + ' to learn more about interactive tables.';\n",
              "          element.innerHTML = '';\n",
              "          dataTable['output_type'] = 'display_data';\n",
              "          await google.colab.output.renderOutput(dataTable, element);\n",
              "          const docLink = document.createElement('div');\n",
              "          docLink.innerHTML = docLinkHtml;\n",
              "          element.appendChild(docLink);\n",
              "        }\n",
              "      </script>\n",
              "    </div>\n",
              "  </div>\n",
              "  "
            ]
          },
          "metadata": {},
          "execution_count": 122
        }
      ],
      "source": [
        "df.groupby('Carrier Name')['No Delayed Arrivals'].sum().nsmallest(3).reset_index(name='No Delays')"
      ]
    },
    {
      "cell_type": "markdown",
      "metadata": {
        "id": "Mae_3fN00PR_"
      },
      "source": [
        "These three carrier have the lowest number of delays in the given dataset"
      ]
    },
    {
      "cell_type": "markdown",
      "metadata": {
        "id": "r9ypOt4sunti"
      },
      "source": [
        "### Which airport has most number of delays"
      ]
    },
    {
      "cell_type": "markdown",
      "metadata": {
        "id": "LO8maVn5wKBS"
      },
      "source": [
        "### Determine the average number of delays per Airport"
      ]
    },
    {
      "cell_type": "code",
      "execution_count": 123,
      "metadata": {
        "colab": {
          "base_uri": "https://localhost:8080/"
        },
        "id": "IJ5Rv6cOwSiq",
        "outputId": "c3c27398-85c4-4572-c230-e77a7345887e"
      },
      "outputs": [
        {
          "output_type": "stream",
          "name": "stdout",
          "text": [
            "Average Number of Delays per Airport: 2723.266846361186\n"
          ]
        }
      ],
      "source": [
        "Delays = df.groupby('Airport')['No Delayed Arrivals'].sum().mean()\n",
        "# Display average number of delays per airport\n",
        "print('Average Number of Delays per Airport: ' + str(Delays))"
      ]
    },
    {
      "cell_type": "markdown",
      "metadata": {
        "id": "MbObAV370eVo"
      },
      "source": [
        "About 2723 delays occur in each airport from the available dataset."
      ]
    },
    {
      "cell_type": "code",
      "execution_count": 124,
      "metadata": {
        "id": "8SgAF5LiupkV"
      },
      "outputs": [],
      "source": [
        "Airport_Delays = df.groupby('Airport Name')['No Delayed Arrivals'].sum().sort_values()"
      ]
    },
    {
      "cell_type": "code",
      "execution_count": 125,
      "metadata": {
        "colab": {
          "base_uri": "https://localhost:8080/"
        },
        "id": "vAVPVzONu_F1",
        "outputId": "867e8904-30f7-49b6-f3f4-470fd2e9a1da"
      },
      "outputs": [
        {
          "output_type": "execute_result",
          "data": {
            "text/plain": [
              "Airport Name\n",
              "Fort Leonard Wood, MO: Waynesville-St. Robert Regional Forney Field        4.0\n",
              "Pago Pago, TT: Pago Pago International                                     5.0\n",
              "Gustavus, AK: Gustavus Airport                                             7.0\n",
              "Branson, MO: Branson Airport                                              13.0\n",
              "Dickinson, ND: Dickinson - Theodore Roosevelt Regional                    13.0\n",
              "                                                                        ...   \n",
              "Los Angeles, CA: Los Angeles International                             28669.0\n",
              "Atlanta, GA: Hartsfield-Jackson Atlanta International                  35147.0\n",
              "Chicago, IL: Chicago O'Hare International                              38482.0\n",
              "Denver, CO: Denver International                                       47903.0\n",
              "Dallas/Fort Worth, TX: Dallas/Fort Worth International                 52065.0\n",
              "Name: No Delayed Arrivals, Length: 371, dtype: float64"
            ]
          },
          "metadata": {},
          "execution_count": 125
        }
      ],
      "source": [
        "Airport_Delays"
      ]
    },
    {
      "cell_type": "code",
      "execution_count": 126,
      "metadata": {
        "colab": {
          "base_uri": "https://localhost:8080/"
        },
        "id": "MWjjJEZKvHdy",
        "outputId": "98e9ba80-88a1-422d-b8cb-46f59dde25c9"
      },
      "outputs": [
        {
          "output_type": "stream",
          "name": "stdout",
          "text": [
            "The most number of delays occurr at \n",
            "\n",
            " Dallas/Fort Worth, TX: Dallas/Fort Worth International\n"
          ]
        }
      ],
      "source": [
        "print(\"The most number of delays occurr at \\n\\n\",Airport_Delays.idxmax())"
      ]
    },
    {
      "cell_type": "code",
      "execution_count": 127,
      "metadata": {
        "colab": {
          "base_uri": "https://localhost:8080/"
        },
        "id": "OCmP9at4vRS2",
        "outputId": "32f9adc1-0065-4f41-a672-302704c20249"
      },
      "outputs": [
        {
          "output_type": "stream",
          "name": "stdout",
          "text": [
            "The total number of flight delays at the above airport is 52065\n"
          ]
        }
      ],
      "source": [
        "print(\"The total number of flight delays at the above airport is\", int(Airport_Delays['Dallas/Fort Worth, TX: Dallas/Fort Worth International']))"
      ]
    },
    {
      "cell_type": "markdown",
      "metadata": {
        "id": "Rt0Gv69dvarV"
      },
      "source": [
        "The most number of delays occur at \"Dallas/Fort Work, TX: Dallas/Fort Worth International\" with 52065 in numbers."
      ]
    },
    {
      "cell_type": "code",
      "execution_count": 128,
      "metadata": {
        "colab": {
          "base_uri": "https://localhost:8080/",
          "height": 867
        },
        "id": "Cp-j3ftKvcJZ",
        "outputId": "1d952a07-35e8-4e83-ea04-56665fbd5db9"
      },
      "outputs": [
        {
          "output_type": "display_data",
          "data": {
            "text/plain": [
              "<Figure size 1080x1080 with 1 Axes>"
            ],
            "image/png": "[encoded data removed]"
          },
          "metadata": {}
        }
      ],
      "source": [
        "plt.figure(figsize = [15,15])\n",
        "labels = ['January','Fabruary','March','April','May','June','July','August','September', 'October', 'November','December']\n",
        "Group = df.groupby('Month')['No Delayed Arrivals'].sum().plot(kind = 'pie',autopct='%1.1f%%', colors = colors)\n",
        "plt.legend(labels,loc =\"lower right\")\n",
        "plt.title(\"Monthly Proportion of Flight Delays\",fontsize = 20)\n",
        "plt.show()"
      ]
    },
    {
      "cell_type": "markdown",
      "metadata": {
        "id": "qx0L-r7lv9T_"
      },
      "source": [
        "This pie chart depicts that the proportion of delays in July is 14.2% which is the highest among the all months."
      ]
    },
    {
      "cell_type": "code",
      "execution_count": 129,
      "metadata": {
        "colab": {
          "base_uri": "https://localhost:8080/",
          "height": 978
        },
        "id": "7wZsZ6wwv-eJ",
        "outputId": "1ab918e5-3920-4e9e-8af2-932346532cb0"
      },
      "outputs": [
        {
          "output_type": "display_data",
          "data": {
            "text/plain": [
              "<Figure size 1296x1080 with 2 Axes>"
            ],
            "image/png": "[encoded data removed]"
          },
          "metadata": {
            "needs_background": "light"
          }
        }
      ],
      "source": [
        "plt.figure(figsize = (18,15))\n",
        "sns.heatmap(df.corr(), annot=True)\n",
        "plt.title('Correlation Heatmap', fontsize = 16)\n",
        "plt.show()"
      ]
    },
    {
      "cell_type": "markdown",
      "metadata": {
        "id": "r0HOwEMbC3z0"
      },
      "source": [
        "Above correlation heatmap shows the correlation between all available variables in the dataset."
      ]
    },
    {
      "cell_type": "markdown",
      "metadata": {
        "id": "fapB559WC5Fs"
      },
      "source": [
        "End of this Notebook"
      ]
    }
  ],
  "metadata": {
    "colab": {
      "name": "FlightDelays2021.ipynb",
      "provenance": [],
      "authorship_tag": "ABX9TyPE5PmcGO/u3TOhSS693/ES",
      "include_colab_link": true
    },
    "kernelspec": {
      "display_name": "Python 3",
      "name": "python3"
    },
    "language_info": {
      "name": "python"
    }
  },
  "nbformat": 4,
  "nbformat_minor": 0
}